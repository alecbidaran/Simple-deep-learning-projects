{
  "nbformat": 4,
  "nbformat_minor": 0,
  "metadata": {
    "colab": {
      "name": "finance_AI.ipynb",
      "provenance": [],
      "collapsed_sections": [],
      "authorship_tag": "ABX9TyN1gfL58zdIbBR9GpZhul/P"
    },
    "kernelspec": {
      "name": "python3",
      "display_name": "Python 3"
    },
    "language_info": {
      "name": "python"
    }
  },
  "cells": [
    {
      "cell_type": "code",
      "metadata": {
        "id": "4aYGRifEF97g"
      },
      "source": [
        "import pandas as pd \n",
        "import numpy as np\n",
        "import matplotlib.pyplot as plt \n",
        "import tensorflow as tf "
      ],
      "execution_count": null,
      "outputs": []
    },
    {
      "cell_type": "code",
      "metadata": {
        "id": "1S3yS5i8GO_1"
      },
      "source": [
        "df=pd.read_csv('http://hilpisch.com/pyalgo_eikon_eod_data.csv',index_col=0,parse_dates=True).dropna()"
      ],
      "execution_count": null,
      "outputs": []
    },
    {
      "cell_type": "code",
      "metadata": {
        "colab": {
          "base_uri": "https://localhost:8080/",
          "height": 431
        },
        "id": "vK00fwxwGS2G",
        "outputId": "61a82618-f6e1-4af5-a1d2-a44c3793db38"
      },
      "source": [
        "df"
      ],
      "execution_count": null,
      "outputs": [
        {
          "output_type": "execute_result",
          "data": {
            "text/html": [
              "<div>\n",
              "<style scoped>\n",
              "    .dataframe tbody tr th:only-of-type {\n",
              "        vertical-align: middle;\n",
              "    }\n",
              "\n",
              "    .dataframe tbody tr th {\n",
              "        vertical-align: top;\n",
              "    }\n",
              "\n",
              "    .dataframe thead th {\n",
              "        text-align: right;\n",
              "    }\n",
              "</style>\n",
              "<table border=\"1\" class=\"dataframe\">\n",
              "  <thead>\n",
              "    <tr style=\"text-align: right;\">\n",
              "      <th></th>\n",
              "      <th>AAPL.O</th>\n",
              "      <th>MSFT.O</th>\n",
              "      <th>INTC.O</th>\n",
              "      <th>AMZN.O</th>\n",
              "      <th>GS.N</th>\n",
              "      <th>SPY</th>\n",
              "      <th>.SPX</th>\n",
              "      <th>.VIX</th>\n",
              "      <th>EUR=</th>\n",
              "      <th>XAU=</th>\n",
              "      <th>GDX</th>\n",
              "      <th>GLD</th>\n",
              "    </tr>\n",
              "    <tr>\n",
              "      <th>Date</th>\n",
              "      <th></th>\n",
              "      <th></th>\n",
              "      <th></th>\n",
              "      <th></th>\n",
              "      <th></th>\n",
              "      <th></th>\n",
              "      <th></th>\n",
              "      <th></th>\n",
              "      <th></th>\n",
              "      <th></th>\n",
              "      <th></th>\n",
              "      <th></th>\n",
              "    </tr>\n",
              "  </thead>\n",
              "  <tbody>\n",
              "    <tr>\n",
              "      <th>2010-01-04</th>\n",
              "      <td>30.572827</td>\n",
              "      <td>30.950</td>\n",
              "      <td>20.88</td>\n",
              "      <td>133.90</td>\n",
              "      <td>173.08</td>\n",
              "      <td>113.33</td>\n",
              "      <td>1132.99</td>\n",
              "      <td>20.04</td>\n",
              "      <td>1.4411</td>\n",
              "      <td>1120.0000</td>\n",
              "      <td>47.71</td>\n",
              "      <td>109.80</td>\n",
              "    </tr>\n",
              "    <tr>\n",
              "      <th>2010-01-05</th>\n",
              "      <td>30.625684</td>\n",
              "      <td>30.960</td>\n",
              "      <td>20.87</td>\n",
              "      <td>134.69</td>\n",
              "      <td>176.14</td>\n",
              "      <td>113.63</td>\n",
              "      <td>1136.52</td>\n",
              "      <td>19.35</td>\n",
              "      <td>1.4368</td>\n",
              "      <td>1118.6500</td>\n",
              "      <td>48.17</td>\n",
              "      <td>109.70</td>\n",
              "    </tr>\n",
              "    <tr>\n",
              "      <th>2010-01-06</th>\n",
              "      <td>30.138541</td>\n",
              "      <td>30.770</td>\n",
              "      <td>20.80</td>\n",
              "      <td>132.25</td>\n",
              "      <td>174.26</td>\n",
              "      <td>113.71</td>\n",
              "      <td>1137.14</td>\n",
              "      <td>19.16</td>\n",
              "      <td>1.4412</td>\n",
              "      <td>1138.5000</td>\n",
              "      <td>49.34</td>\n",
              "      <td>111.51</td>\n",
              "    </tr>\n",
              "    <tr>\n",
              "      <th>2010-01-07</th>\n",
              "      <td>30.082827</td>\n",
              "      <td>30.452</td>\n",
              "      <td>20.60</td>\n",
              "      <td>130.00</td>\n",
              "      <td>177.67</td>\n",
              "      <td>114.19</td>\n",
              "      <td>1141.69</td>\n",
              "      <td>19.06</td>\n",
              "      <td>1.4318</td>\n",
              "      <td>1131.9000</td>\n",
              "      <td>49.10</td>\n",
              "      <td>110.82</td>\n",
              "    </tr>\n",
              "    <tr>\n",
              "      <th>2010-01-08</th>\n",
              "      <td>30.282827</td>\n",
              "      <td>30.660</td>\n",
              "      <td>20.83</td>\n",
              "      <td>133.52</td>\n",
              "      <td>174.31</td>\n",
              "      <td>114.57</td>\n",
              "      <td>1144.98</td>\n",
              "      <td>18.13</td>\n",
              "      <td>1.4412</td>\n",
              "      <td>1136.1000</td>\n",
              "      <td>49.84</td>\n",
              "      <td>111.37</td>\n",
              "    </tr>\n",
              "    <tr>\n",
              "      <th>...</th>\n",
              "      <td>...</td>\n",
              "      <td>...</td>\n",
              "      <td>...</td>\n",
              "      <td>...</td>\n",
              "      <td>...</td>\n",
              "      <td>...</td>\n",
              "      <td>...</td>\n",
              "      <td>...</td>\n",
              "      <td>...</td>\n",
              "      <td>...</td>\n",
              "      <td>...</td>\n",
              "      <td>...</td>\n",
              "    </tr>\n",
              "    <tr>\n",
              "      <th>2019-12-24</th>\n",
              "      <td>284.270000</td>\n",
              "      <td>157.380</td>\n",
              "      <td>59.41</td>\n",
              "      <td>1789.21</td>\n",
              "      <td>229.91</td>\n",
              "      <td>321.23</td>\n",
              "      <td>3223.38</td>\n",
              "      <td>12.67</td>\n",
              "      <td>1.1087</td>\n",
              "      <td>1498.8100</td>\n",
              "      <td>28.66</td>\n",
              "      <td>141.27</td>\n",
              "    </tr>\n",
              "    <tr>\n",
              "      <th>2019-12-26</th>\n",
              "      <td>289.910000</td>\n",
              "      <td>158.670</td>\n",
              "      <td>59.82</td>\n",
              "      <td>1868.77</td>\n",
              "      <td>231.21</td>\n",
              "      <td>322.94</td>\n",
              "      <td>3239.91</td>\n",
              "      <td>12.65</td>\n",
              "      <td>1.1096</td>\n",
              "      <td>1511.2979</td>\n",
              "      <td>29.08</td>\n",
              "      <td>142.38</td>\n",
              "    </tr>\n",
              "    <tr>\n",
              "      <th>2019-12-27</th>\n",
              "      <td>289.800000</td>\n",
              "      <td>158.960</td>\n",
              "      <td>60.08</td>\n",
              "      <td>1869.80</td>\n",
              "      <td>230.66</td>\n",
              "      <td>322.86</td>\n",
              "      <td>3240.02</td>\n",
              "      <td>13.43</td>\n",
              "      <td>1.1175</td>\n",
              "      <td>1510.4167</td>\n",
              "      <td>28.87</td>\n",
              "      <td>142.33</td>\n",
              "    </tr>\n",
              "    <tr>\n",
              "      <th>2019-12-30</th>\n",
              "      <td>291.520000</td>\n",
              "      <td>157.590</td>\n",
              "      <td>59.62</td>\n",
              "      <td>1846.89</td>\n",
              "      <td>229.80</td>\n",
              "      <td>321.08</td>\n",
              "      <td>3221.29</td>\n",
              "      <td>14.82</td>\n",
              "      <td>1.1197</td>\n",
              "      <td>1515.1230</td>\n",
              "      <td>29.49</td>\n",
              "      <td>142.63</td>\n",
              "    </tr>\n",
              "    <tr>\n",
              "      <th>2019-12-31</th>\n",
              "      <td>293.650000</td>\n",
              "      <td>157.700</td>\n",
              "      <td>59.85</td>\n",
              "      <td>1847.84</td>\n",
              "      <td>229.93</td>\n",
              "      <td>321.86</td>\n",
              "      <td>3230.78</td>\n",
              "      <td>13.78</td>\n",
              "      <td>1.1210</td>\n",
              "      <td>1517.0100</td>\n",
              "      <td>29.28</td>\n",
              "      <td>142.90</td>\n",
              "    </tr>\n",
              "  </tbody>\n",
              "</table>\n",
              "<p>2516 rows × 12 columns</p>\n",
              "</div>"
            ],
            "text/plain": [
              "                AAPL.O   MSFT.O  INTC.O  ...       XAU=    GDX     GLD\n",
              "Date                                     ...                          \n",
              "2010-01-04   30.572827   30.950   20.88  ...  1120.0000  47.71  109.80\n",
              "2010-01-05   30.625684   30.960   20.87  ...  1118.6500  48.17  109.70\n",
              "2010-01-06   30.138541   30.770   20.80  ...  1138.5000  49.34  111.51\n",
              "2010-01-07   30.082827   30.452   20.60  ...  1131.9000  49.10  110.82\n",
              "2010-01-08   30.282827   30.660   20.83  ...  1136.1000  49.84  111.37\n",
              "...                ...      ...     ...  ...        ...    ...     ...\n",
              "2019-12-24  284.270000  157.380   59.41  ...  1498.8100  28.66  141.27\n",
              "2019-12-26  289.910000  158.670   59.82  ...  1511.2979  29.08  142.38\n",
              "2019-12-27  289.800000  158.960   60.08  ...  1510.4167  28.87  142.33\n",
              "2019-12-30  291.520000  157.590   59.62  ...  1515.1230  29.49  142.63\n",
              "2019-12-31  293.650000  157.700   59.85  ...  1517.0100  29.28  142.90\n",
              "\n",
              "[2516 rows x 12 columns]"
            ]
          },
          "metadata": {
            "tags": []
          },
          "execution_count": 3
        }
      ]
    },
    {
      "cell_type": "code",
      "metadata": {
        "id": "DcENRbGJGTKO"
      },
      "source": [
        "x=df[\"EUR=\"][:2500].to_numpy()\n",
        "data=x.reshape(-1,10)\n",
        "    "
      ],
      "execution_count": null,
      "outputs": []
    },
    {
      "cell_type": "code",
      "metadata": {
        "id": "UKxQpO-CGThN"
      },
      "source": [
        "x=data[:,:1]\n",
        "y=data[:,-1:]"
      ],
      "execution_count": null,
      "outputs": []
    },
    {
      "cell_type": "code",
      "metadata": {
        "id": "-FXbwh3DGbhg"
      },
      "source": [
        "from sklearn.linear_model import LinearRegression"
      ],
      "execution_count": null,
      "outputs": []
    },
    {
      "cell_type": "code",
      "metadata": {
        "colab": {
          "base_uri": "https://localhost:8080/"
        },
        "id": "JqNmK8XOGb-d",
        "outputId": "23fae5cf-ec9f-470d-998c-de9bbebbd387"
      },
      "source": [
        "lr=LinearRegression()\n",
        "lr.fit(x[:200],y[:200])"
      ],
      "execution_count": null,
      "outputs": [
        {
          "output_type": "execute_result",
          "data": {
            "text/plain": [
              "LinearRegression(copy_X=True, fit_intercept=True, n_jobs=None, normalize=False)"
            ]
          },
          "metadata": {
            "tags": []
          },
          "execution_count": 7
        }
      ]
    },
    {
      "cell_type": "code",
      "metadata": {
        "colab": {
          "base_uri": "https://localhost:8080/"
        },
        "id": "liunmHVpGesV",
        "outputId": "b9738ad8-5ab6-44fd-db61-4cf7f083b1fe"
      },
      "source": [
        "predict=lr.predict(x[200:])\n",
        "predict.shape"
      ],
      "execution_count": null,
      "outputs": [
        {
          "output_type": "execute_result",
          "data": {
            "text/plain": [
              "(50, 1)"
            ]
          },
          "metadata": {
            "tags": []
          },
          "execution_count": 8
        }
      ]
    },
    {
      "cell_type": "code",
      "metadata": {
        "colab": {
          "base_uri": "https://localhost:8080/",
          "height": 282
        },
        "id": "TIKde1nHGtNn",
        "outputId": "f32a90aa-f6e7-4c61-8b20-b6ac730c3938"
      },
      "source": [
        "plt.plot(np.ndarray.flatten(y[200:]))\n",
        "plt.plot(np.ndarray.flatten(predict),\"o\",color='red')"
      ],
      "execution_count": null,
      "outputs": [
        {
          "output_type": "execute_result",
          "data": {
            "text/plain": [
              "[<matplotlib.lines.Line2D at 0x7fcbe6d7a050>]"
            ]
          },
          "metadata": {
            "tags": []
          },
          "execution_count": 10
        },
        {
          "output_type": "display_data",
          "data": {
            "image/png": "[encoded data removed]",
            "text/plain": [
              "<Figure size 432x288 with 1 Axes>"
            ]
          },
          "metadata": {
            "tags": [],
            "needs_background": "light"
          }
        }
      ]
    },
    {
      "cell_type": "code",
      "metadata": {
        "id": "Jrom8OuQGxX2"
      },
      "source": [
        "returns=np.log(df[\"EUR=\"]/df[\"EUR=\"].shift(1))"
      ],
      "execution_count": null,
      "outputs": []
    },
    {
      "cell_type": "code",
      "metadata": {
        "colab": {
          "base_uri": "https://localhost:8080/",
          "height": 282
        },
        "id": "GUPHbJ4rSJFR",
        "outputId": "5a915124-3f3f-4689-ec46-6f66c1b0c3c6"
      },
      "source": [
        "plt.plot(returns)"
      ],
      "execution_count": null,
      "outputs": [
        {
          "output_type": "execute_result",
          "data": {
            "text/plain": [
              "[<matplotlib.lines.Line2D at 0x7fcbe6d4a190>]"
            ]
          },
          "metadata": {
            "tags": []
          },
          "execution_count": 12
        },
        {
          "output_type": "display_data",
          "data": {
            "image/png": "[encoded data removed]",
            "text/plain": [
              "<Figure size 432x288 with 1 Axes>"
            ]
          },
          "metadata": {
            "tags": [],
            "needs_background": "light"
          }
        }
      ]
    },
    {
      "cell_type": "code",
      "metadata": {
        "id": "sZiVSD1JG31A"
      },
      "source": [
        "direction=np.where(returns>0,1,0)"
      ],
      "execution_count": null,
      "outputs": []
    },
    {
      "cell_type": "code",
      "metadata": {
        "id": "K2YbhzH8G4x8"
      },
      "source": [
        "model=tf.keras.models.Sequential([\n",
        "                                  tf.keras.layers.Dense(62,activation=\"relu\",input_shape=(1,)),\n",
        "                                  tf.keras.layers.Dense(32,activation=\"relu\"),\n",
        "                                  tf.keras.layers.Dense(1,activation=\"sigmoid\"),\n",
        "])"
      ],
      "execution_count": null,
      "outputs": []
    },
    {
      "cell_type": "code",
      "metadata": {
        "colab": {
          "base_uri": "https://localhost:8080/"
        },
        "id": "xpc2kM2yHJ4A",
        "outputId": "abb58fe6-ab6a-46c5-92be-32f0779fff57"
      },
      "source": [
        "model.summary()"
      ],
      "execution_count": null,
      "outputs": [
        {
          "output_type": "stream",
          "text": [
            "Model: \"sequential\"\n",
            "_________________________________________________________________\n",
            "Layer (type)                 Output Shape              Param #   \n",
            "=================================================================\n",
            "dense (Dense)                (None, 62)                124       \n",
            "_________________________________________________________________\n",
            "dense_1 (Dense)              (None, 32)                2016      \n",
            "_________________________________________________________________\n",
            "dense_2 (Dense)              (None, 1)                 33        \n",
            "=================================================================\n",
            "Total params: 2,173\n",
            "Trainable params: 2,173\n",
            "Non-trainable params: 0\n",
            "_________________________________________________________________\n"
          ],
          "name": "stdout"
        }
      ]
    },
    {
      "cell_type": "code",
      "metadata": {
        "id": "U_MqvdNYHmrk"
      },
      "source": [
        "model.compile(optimizer=\"adam\",loss=\"binary_crossentropy\",metrics=[\"acc\"])"
      ],
      "execution_count": null,
      "outputs": []
    },
    {
      "cell_type": "code",
      "metadata": {
        "id": "Df1eb4HUHyFT"
      },
      "source": [
        "x=df[\"EUR=\"].to_numpy()\n",
        "mean,std=x.mean(),x.std()\n",
        "x=(x-mean)/std\n",
        "x=x.reshape(-1,1)\n",
        "y=direction[:2500]"
      ],
      "execution_count": null,
      "outputs": []
    },
    {
      "cell_type": "code",
      "metadata": {
        "colab": {
          "base_uri": "https://localhost:8080/"
        },
        "id": "6MZ5JbhwLGbu",
        "outputId": "cd3abbfe-edf7-45f0-a42b-1ef1729cffa7"
      },
      "source": [
        "x.shape"
      ],
      "execution_count": null,
      "outputs": [
        {
          "output_type": "execute_result",
          "data": {
            "text/plain": [
              "(2516, 1)"
            ]
          },
          "metadata": {
            "tags": []
          },
          "execution_count": 18
        }
      ]
    },
    {
      "cell_type": "code",
      "metadata": {
        "colab": {
          "base_uri": "https://localhost:8080/"
        },
        "id": "mi23V9GhIZ87",
        "outputId": "dc8e3313-d0cb-4ce6-fa1f-391dfe001f7f"
      },
      "source": [
        "model.fit(x[:2500],y,epochs=50,batch_size=32,validation_split=0.2)"
      ],
      "execution_count": null,
      "outputs": [
        {
          "output_type": "stream",
          "text": [
            "Epoch 1/50\n",
            "63/63 [==============================] - 1s 9ms/step - loss: 0.6969 - acc: 0.4651 - val_loss: 0.6928 - val_acc: 0.5180\n",
            "Epoch 2/50\n",
            "63/63 [==============================] - 0s 2ms/step - loss: 0.6919 - acc: 0.5045 - val_loss: 0.6925 - val_acc: 0.5180\n",
            "Epoch 3/50\n",
            "63/63 [==============================] - 0s 2ms/step - loss: 0.6917 - acc: 0.5146 - val_loss: 0.6923 - val_acc: 0.5180\n",
            "Epoch 4/50\n",
            "63/63 [==============================] - 0s 2ms/step - loss: 0.6923 - acc: 0.5166 - val_loss: 0.6930 - val_acc: 0.5180\n",
            "Epoch 5/50\n",
            "63/63 [==============================] - 0s 2ms/step - loss: 0.6920 - acc: 0.5205 - val_loss: 0.6924 - val_acc: 0.5180\n",
            "Epoch 6/50\n",
            "63/63 [==============================] - 0s 2ms/step - loss: 0.6931 - acc: 0.5026 - val_loss: 0.6923 - val_acc: 0.5180\n",
            "Epoch 7/50\n",
            "63/63 [==============================] - 0s 2ms/step - loss: 0.6941 - acc: 0.4981 - val_loss: 0.6934 - val_acc: 0.5180\n",
            "Epoch 8/50\n",
            "63/63 [==============================] - 0s 2ms/step - loss: 0.6916 - acc: 0.5084 - val_loss: 0.6925 - val_acc: 0.5180\n",
            "Epoch 9/50\n",
            "63/63 [==============================] - 0s 2ms/step - loss: 0.6920 - acc: 0.5188 - val_loss: 0.6929 - val_acc: 0.5180\n",
            "Epoch 10/50\n",
            "63/63 [==============================] - 0s 2ms/step - loss: 0.6923 - acc: 0.5196 - val_loss: 0.6928 - val_acc: 0.5180\n",
            "Epoch 11/50\n",
            "63/63 [==============================] - 0s 2ms/step - loss: 0.6919 - acc: 0.5218 - val_loss: 0.6934 - val_acc: 0.5180\n",
            "Epoch 12/50\n",
            "63/63 [==============================] - 0s 2ms/step - loss: 0.6905 - acc: 0.5353 - val_loss: 0.6937 - val_acc: 0.5220\n",
            "Epoch 13/50\n",
            "63/63 [==============================] - 0s 2ms/step - loss: 0.6907 - acc: 0.5271 - val_loss: 0.6931 - val_acc: 0.5180\n",
            "Epoch 14/50\n",
            "63/63 [==============================] - 0s 2ms/step - loss: 0.6920 - acc: 0.5225 - val_loss: 0.6936 - val_acc: 0.5180\n",
            "Epoch 15/50\n",
            "63/63 [==============================] - 0s 2ms/step - loss: 0.6926 - acc: 0.5070 - val_loss: 0.6931 - val_acc: 0.5340\n",
            "Epoch 16/50\n",
            "63/63 [==============================] - 0s 2ms/step - loss: 0.6927 - acc: 0.5201 - val_loss: 0.6931 - val_acc: 0.5320\n",
            "Epoch 17/50\n",
            "63/63 [==============================] - 0s 2ms/step - loss: 0.6918 - acc: 0.5054 - val_loss: 0.6929 - val_acc: 0.5240\n",
            "Epoch 18/50\n",
            "63/63 [==============================] - 0s 2ms/step - loss: 0.6929 - acc: 0.5067 - val_loss: 0.6927 - val_acc: 0.5220\n",
            "Epoch 19/50\n",
            "63/63 [==============================] - 0s 2ms/step - loss: 0.6919 - acc: 0.5143 - val_loss: 0.6927 - val_acc: 0.5340\n",
            "Epoch 20/50\n",
            "63/63 [==============================] - 0s 2ms/step - loss: 0.6919 - acc: 0.5200 - val_loss: 0.6929 - val_acc: 0.5240\n",
            "Epoch 21/50\n",
            "63/63 [==============================] - 0s 2ms/step - loss: 0.6915 - acc: 0.5060 - val_loss: 0.6923 - val_acc: 0.5220\n",
            "Epoch 22/50\n",
            "63/63 [==============================] - 0s 2ms/step - loss: 0.6923 - acc: 0.5236 - val_loss: 0.6931 - val_acc: 0.5260\n",
            "Epoch 23/50\n",
            "63/63 [==============================] - 0s 2ms/step - loss: 0.6902 - acc: 0.5285 - val_loss: 0.6935 - val_acc: 0.5160\n",
            "Epoch 24/50\n",
            "63/63 [==============================] - 0s 2ms/step - loss: 0.6919 - acc: 0.5235 - val_loss: 0.6922 - val_acc: 0.5300\n",
            "Epoch 25/50\n",
            "63/63 [==============================] - 0s 2ms/step - loss: 0.6934 - acc: 0.5076 - val_loss: 0.6923 - val_acc: 0.5340\n",
            "Epoch 26/50\n",
            "63/63 [==============================] - 0s 2ms/step - loss: 0.6911 - acc: 0.5297 - val_loss: 0.6937 - val_acc: 0.5080\n",
            "Epoch 27/50\n",
            "63/63 [==============================] - 0s 2ms/step - loss: 0.6929 - acc: 0.5188 - val_loss: 0.6934 - val_acc: 0.5220\n",
            "Epoch 28/50\n",
            "63/63 [==============================] - 0s 2ms/step - loss: 0.6927 - acc: 0.5204 - val_loss: 0.6922 - val_acc: 0.5280\n",
            "Epoch 29/50\n",
            "63/63 [==============================] - 0s 2ms/step - loss: 0.6915 - acc: 0.5340 - val_loss: 0.6938 - val_acc: 0.5040\n",
            "Epoch 30/50\n",
            "63/63 [==============================] - 0s 2ms/step - loss: 0.6917 - acc: 0.5276 - val_loss: 0.6938 - val_acc: 0.5020\n",
            "Epoch 31/50\n",
            "63/63 [==============================] - 0s 2ms/step - loss: 0.6903 - acc: 0.5427 - val_loss: 0.6937 - val_acc: 0.5220\n",
            "Epoch 32/50\n",
            "63/63 [==============================] - 0s 2ms/step - loss: 0.6889 - acc: 0.5395 - val_loss: 0.6933 - val_acc: 0.5220\n",
            "Epoch 33/50\n",
            "63/63 [==============================] - 0s 2ms/step - loss: 0.6938 - acc: 0.5039 - val_loss: 0.6933 - val_acc: 0.5220\n",
            "Epoch 34/50\n",
            "63/63 [==============================] - 0s 2ms/step - loss: 0.6893 - acc: 0.5395 - val_loss: 0.6928 - val_acc: 0.5380\n",
            "Epoch 35/50\n",
            "63/63 [==============================] - 0s 2ms/step - loss: 0.6933 - acc: 0.5042 - val_loss: 0.6935 - val_acc: 0.4980\n",
            "Epoch 36/50\n",
            "63/63 [==============================] - 0s 2ms/step - loss: 0.6923 - acc: 0.5287 - val_loss: 0.6930 - val_acc: 0.5220\n",
            "Epoch 37/50\n",
            "63/63 [==============================] - 0s 2ms/step - loss: 0.6923 - acc: 0.5261 - val_loss: 0.6931 - val_acc: 0.5140\n",
            "Epoch 38/50\n",
            "63/63 [==============================] - 0s 2ms/step - loss: 0.6930 - acc: 0.5200 - val_loss: 0.6938 - val_acc: 0.5000\n",
            "Epoch 39/50\n",
            "63/63 [==============================] - 0s 2ms/step - loss: 0.6892 - acc: 0.5470 - val_loss: 0.6940 - val_acc: 0.4980\n",
            "Epoch 40/50\n",
            "63/63 [==============================] - 0s 2ms/step - loss: 0.6901 - acc: 0.5359 - val_loss: 0.6926 - val_acc: 0.5340\n",
            "Epoch 41/50\n",
            "63/63 [==============================] - 0s 2ms/step - loss: 0.6906 - acc: 0.5306 - val_loss: 0.6937 - val_acc: 0.4960\n",
            "Epoch 42/50\n",
            "63/63 [==============================] - 0s 2ms/step - loss: 0.6910 - acc: 0.5312 - val_loss: 0.6925 - val_acc: 0.5300\n",
            "Epoch 43/50\n",
            "63/63 [==============================] - 0s 2ms/step - loss: 0.6896 - acc: 0.5401 - val_loss: 0.6933 - val_acc: 0.5180\n",
            "Epoch 44/50\n",
            "63/63 [==============================] - 0s 2ms/step - loss: 0.6903 - acc: 0.5336 - val_loss: 0.6933 - val_acc: 0.5240\n",
            "Epoch 45/50\n",
            "63/63 [==============================] - 0s 2ms/step - loss: 0.6890 - acc: 0.5585 - val_loss: 0.6931 - val_acc: 0.5140\n",
            "Epoch 46/50\n",
            "63/63 [==============================] - 0s 2ms/step - loss: 0.6920 - acc: 0.5281 - val_loss: 0.6928 - val_acc: 0.5140\n",
            "Epoch 47/50\n",
            "63/63 [==============================] - 0s 2ms/step - loss: 0.6917 - acc: 0.5195 - val_loss: 0.6930 - val_acc: 0.5120\n",
            "Epoch 48/50\n",
            "63/63 [==============================] - 0s 2ms/step - loss: 0.6899 - acc: 0.5369 - val_loss: 0.6922 - val_acc: 0.5340\n",
            "Epoch 49/50\n",
            "63/63 [==============================] - 0s 2ms/step - loss: 0.6929 - acc: 0.5123 - val_loss: 0.6939 - val_acc: 0.4940\n",
            "Epoch 50/50\n",
            "63/63 [==============================] - 0s 2ms/step - loss: 0.6910 - acc: 0.5322 - val_loss: 0.6949 - val_acc: 0.4860\n"
          ],
          "name": "stdout"
        },
        {
          "output_type": "execute_result",
          "data": {
            "text/plain": [
              "<tensorflow.python.keras.callbacks.History at 0x7fcbe2c87350>"
            ]
          },
          "metadata": {
            "tags": []
          },
          "execution_count": 19
        }
      ]
    },
    {
      "cell_type": "code",
      "metadata": {
        "colab": {
          "base_uri": "https://localhost:8080/"
        },
        "id": "lJWiE2YCI5sD",
        "outputId": "c266a1a5-6b1e-4c56-c846-23e05add8c35"
      },
      "source": [
        "model.evaluate(x[:2500],y)"
      ],
      "execution_count": null,
      "outputs": [
        {
          "output_type": "stream",
          "text": [
            "79/79 [==============================] - 0s 1ms/step - loss: 0.6912 - acc: 0.5192\n"
          ],
          "name": "stdout"
        },
        {
          "output_type": "execute_result",
          "data": {
            "text/plain": [
              "[0.6912294626235962, 0.5192000269889832]"
            ]
          },
          "metadata": {
            "tags": []
          },
          "execution_count": 20
        }
      ]
    },
    {
      "cell_type": "code",
      "metadata": {
        "id": "qZX_KOM7Jsq8"
      },
      "source": [
        "pred=model.predict(x[2000:])"
      ],
      "execution_count": null,
      "outputs": []
    },
    {
      "cell_type": "code",
      "metadata": {
        "id": "YzW2EvZFLZFC"
      },
      "source": [
        "preds=np.where(pred>=0.50,1,0).flatten()"
      ],
      "execution_count": null,
      "outputs": []
    },
    {
      "cell_type": "code",
      "metadata": {
        "colab": {
          "base_uri": "https://localhost:8080/"
        },
        "id": "3OV6ZFOFL45n",
        "outputId": "e2cd9830-01af-446f-dc4c-fa1dfb2a353f"
      },
      "source": [
        "preds.shape"
      ],
      "execution_count": null,
      "outputs": [
        {
          "output_type": "execute_result",
          "data": {
            "text/plain": [
              "(2500,)"
            ]
          },
          "metadata": {
            "tags": []
          },
          "execution_count": 181
        }
      ]
    },
    {
      "cell_type": "code",
      "metadata": {
        "id": "phHDZChTM7Sr"
      },
      "source": [
        "strategy=returns[2000:]*preds"
      ],
      "execution_count": null,
      "outputs": []
    },
    {
      "cell_type": "code",
      "metadata": {
        "id": "S-ZAV9cANOyk"
      },
      "source": [
        "results=pd.DataFrame([strategy,returns]).transpose()\n"
      ],
      "execution_count": null,
      "outputs": []
    },
    {
      "cell_type": "code",
      "metadata": {
        "colab": {
          "base_uri": "https://localhost:8080/",
          "height": 286
        },
        "id": "JtgxrSb6OGQ4",
        "outputId": "9f33cc82-1d08-4fd3-85e1-99b84be5f9e5"
      },
      "source": [
        "strategy.cumsum().apply(np.exp).plot()\n",
        "returns.cumsum().apply(np.exp).plot()"
      ],
      "execution_count": null,
      "outputs": [
        {
          "output_type": "execute_result",
          "data": {
            "text/plain": [
              "<matplotlib.axes._subplots.AxesSubplot at 0x7fcbdf2f6f10>"
            ]
          },
          "metadata": {
            "tags": []
          },
          "execution_count": 26
        },
        {
          "output_type": "display_data",
          "data": {
            "image/png": "[encoded data removed]",
            "text/plain": [
              "<Figure size 432x288 with 1 Axes>"
            ]
          },
          "metadata": {
            "tags": [],
            "needs_background": "light"
          }
        }
      ]
    },
    {
      "cell_type": "code",
      "metadata": {
        "id": "Z50JVgjVXNSo"
      },
      "source": [
        "x=x[:2500].reshape(-1,1,1)\n",
        "direction=direction[:2500].reshape(-1,1,1)"
      ],
      "execution_count": null,
      "outputs": []
    },
    {
      "cell_type": "code",
      "metadata": {
        "colab": {
          "base_uri": "https://localhost:8080/"
        },
        "id": "iBWSuRTcY540",
        "outputId": "4743a9c3-bc80-423b-a54d-947172f1ed0f"
      },
      "source": [
        "direction.shape"
      ],
      "execution_count": null,
      "outputs": [
        {
          "output_type": "execute_result",
          "data": {
            "text/plain": [
              "(2500, 1, 1)"
            ]
          },
          "metadata": {
            "tags": []
          },
          "execution_count": 260
        }
      ]
    },
    {
      "cell_type": "code",
      "metadata": {
        "id": "BG368YIzVoS_"
      },
      "source": [
        "model1=tf.keras.models.Sequential([\n",
        "                                  tf.keras.layers.LSTM(40,activation=\"relu\",input_shape=[1,1],return_sequences=True),\n",
        "                                  tf.keras.layers.LSTM(20,activation=\"relu\",return_sequences=True),\n",
        "                                  tf.keras.layers.Flatten(),\n",
        "                                  tf.keras.layers.Dense(1,activation=\"sigmoid\"),\n",
        "])"
      ],
      "execution_count": null,
      "outputs": []
    },
    {
      "cell_type": "code",
      "metadata": {
        "colab": {
          "base_uri": "https://localhost:8080/"
        },
        "id": "QEylV733YCs7",
        "outputId": "312983ae-03a4-4bc9-ae5c-f4d55fc185bb"
      },
      "source": [
        "model1.summary()"
      ],
      "execution_count": null,
      "outputs": [
        {
          "output_type": "stream",
          "text": [
            "Model: \"sequential_17\"\n",
            "_________________________________________________________________\n",
            "Layer (type)                 Output Shape              Param #   \n",
            "=================================================================\n",
            "lstm_12 (LSTM)               (None, 1, 40)             6720      \n",
            "_________________________________________________________________\n",
            "lstm_13 (LSTM)               (None, 1, 20)             4880      \n",
            "_________________________________________________________________\n",
            "flatten_4 (Flatten)          (None, 20)                0         \n",
            "_________________________________________________________________\n",
            "dense_39 (Dense)             (None, 1)                 21        \n",
            "=================================================================\n",
            "Total params: 11,621\n",
            "Trainable params: 11,621\n",
            "Non-trainable params: 0\n",
            "_________________________________________________________________\n"
          ],
          "name": "stdout"
        }
      ]
    },
    {
      "cell_type": "code",
      "metadata": {
        "id": "hF9V9qOZV33r"
      },
      "source": [
        "model1.compile(optimizer=\"adam\",loss=\"binary_crossentropy\",metrics=[\"acc\"])"
      ],
      "execution_count": null,
      "outputs": []
    },
    {
      "cell_type": "code",
      "metadata": {
        "colab": {
          "base_uri": "https://localhost:8080/"
        },
        "id": "u48RppA8ZV9Z",
        "outputId": "16a21c9d-6dd1-446d-ee3f-e8c5e2b6af4f"
      },
      "source": [
        "model1.fit(x,direction,epochs=50,batch_size=16,validation_split=0.2)"
      ],
      "execution_count": null,
      "outputs": [
        {
          "output_type": "stream",
          "text": [
            "Epoch 1/50\n",
            "125/125 [==============================] - 2s 5ms/step - loss: 0.6932 - acc: 0.5128 - val_loss: 0.6932 - val_acc: 0.5000\n",
            "Epoch 2/50\n",
            "125/125 [==============================] - 0s 3ms/step - loss: 0.6932 - acc: 0.4928 - val_loss: 0.6931 - val_acc: 0.4880\n",
            "Epoch 3/50\n",
            "125/125 [==============================] - 0s 3ms/step - loss: 0.6932 - acc: 0.4975 - val_loss: 0.6931 - val_acc: 0.5420\n",
            "Epoch 4/50\n",
            "125/125 [==============================] - 0s 3ms/step - loss: 0.6932 - acc: 0.5053 - val_loss: 0.6932 - val_acc: 0.5060\n",
            "Epoch 5/50\n",
            "125/125 [==============================] - 0s 3ms/step - loss: 0.6931 - acc: 0.5375 - val_loss: 0.6933 - val_acc: 0.4680\n",
            "Epoch 6/50\n",
            "125/125 [==============================] - 0s 3ms/step - loss: 0.6932 - acc: 0.5026 - val_loss: 0.6933 - val_acc: 0.4680\n",
            "Epoch 7/50\n",
            "125/125 [==============================] - 0s 3ms/step - loss: 0.6931 - acc: 0.5103 - val_loss: 0.6934 - val_acc: 0.4680\n",
            "Epoch 8/50\n",
            "125/125 [==============================] - 0s 3ms/step - loss: 0.6931 - acc: 0.4892 - val_loss: 0.6933 - val_acc: 0.4720\n",
            "Epoch 9/50\n",
            "125/125 [==============================] - 0s 3ms/step - loss: 0.6929 - acc: 0.5126 - val_loss: 0.6932 - val_acc: 0.4860\n",
            "Epoch 10/50\n",
            "125/125 [==============================] - 0s 3ms/step - loss: 0.6932 - acc: 0.5005 - val_loss: 0.6933 - val_acc: 0.4980\n",
            "Epoch 11/50\n",
            "125/125 [==============================] - 0s 3ms/step - loss: 0.6931 - acc: 0.5100 - val_loss: 0.6934 - val_acc: 0.4740\n",
            "Epoch 12/50\n",
            "125/125 [==============================] - 0s 3ms/step - loss: 0.6933 - acc: 0.4979 - val_loss: 0.6936 - val_acc: 0.4740\n",
            "Epoch 13/50\n",
            "125/125 [==============================] - 0s 3ms/step - loss: 0.6931 - acc: 0.4966 - val_loss: 0.6935 - val_acc: 0.4980\n",
            "Epoch 14/50\n",
            "125/125 [==============================] - 0s 3ms/step - loss: 0.6930 - acc: 0.5103 - val_loss: 0.6937 - val_acc: 0.4780\n",
            "Epoch 15/50\n",
            "125/125 [==============================] - 0s 3ms/step - loss: 0.6930 - acc: 0.5090 - val_loss: 0.6935 - val_acc: 0.4940\n",
            "Epoch 16/50\n",
            "125/125 [==============================] - 0s 3ms/step - loss: 0.6928 - acc: 0.4903 - val_loss: 0.6938 - val_acc: 0.4880\n",
            "Epoch 17/50\n",
            "125/125 [==============================] - 0s 3ms/step - loss: 0.6927 - acc: 0.4948 - val_loss: 0.6936 - val_acc: 0.5000\n",
            "Epoch 18/50\n",
            "125/125 [==============================] - 0s 3ms/step - loss: 0.6922 - acc: 0.4926 - val_loss: 0.6932 - val_acc: 0.4900\n",
            "Epoch 19/50\n",
            "125/125 [==============================] - 0s 3ms/step - loss: 0.6927 - acc: 0.4901 - val_loss: 0.6930 - val_acc: 0.5100\n",
            "Epoch 20/50\n",
            "125/125 [==============================] - 0s 3ms/step - loss: 0.6929 - acc: 0.5047 - val_loss: 0.6934 - val_acc: 0.4840\n",
            "Epoch 21/50\n",
            "125/125 [==============================] - 0s 3ms/step - loss: 0.6932 - acc: 0.5033 - val_loss: 0.6932 - val_acc: 0.4880\n",
            "Epoch 22/50\n",
            "125/125 [==============================] - 0s 3ms/step - loss: 0.6934 - acc: 0.4982 - val_loss: 0.6937 - val_acc: 0.4940\n",
            "Epoch 23/50\n",
            "125/125 [==============================] - 0s 3ms/step - loss: 0.6922 - acc: 0.5225 - val_loss: 0.6930 - val_acc: 0.4920\n",
            "Epoch 24/50\n",
            "125/125 [==============================] - 0s 3ms/step - loss: 0.6926 - acc: 0.4996 - val_loss: 0.6937 - val_acc: 0.4840\n",
            "Epoch 25/50\n",
            "125/125 [==============================] - 0s 3ms/step - loss: 0.6933 - acc: 0.4961 - val_loss: 0.6936 - val_acc: 0.4840\n",
            "Epoch 26/50\n",
            "125/125 [==============================] - 0s 3ms/step - loss: 0.6926 - acc: 0.5026 - val_loss: 0.6929 - val_acc: 0.5080\n",
            "Epoch 27/50\n",
            "125/125 [==============================] - 0s 3ms/step - loss: 0.6931 - acc: 0.5014 - val_loss: 0.6930 - val_acc: 0.4960\n",
            "Epoch 28/50\n",
            "125/125 [==============================] - 0s 3ms/step - loss: 0.6926 - acc: 0.5106 - val_loss: 0.6927 - val_acc: 0.5240\n",
            "Epoch 29/50\n",
            "125/125 [==============================] - 0s 3ms/step - loss: 0.6927 - acc: 0.5174 - val_loss: 0.6932 - val_acc: 0.4920\n",
            "Epoch 30/50\n",
            "125/125 [==============================] - 0s 3ms/step - loss: 0.6922 - acc: 0.5152 - val_loss: 0.6927 - val_acc: 0.5220\n",
            "Epoch 31/50\n",
            "125/125 [==============================] - 0s 3ms/step - loss: 0.6922 - acc: 0.5182 - val_loss: 0.6926 - val_acc: 0.5200\n",
            "Epoch 32/50\n",
            "125/125 [==============================] - 0s 3ms/step - loss: 0.6924 - acc: 0.5078 - val_loss: 0.6929 - val_acc: 0.5180\n",
            "Epoch 33/50\n",
            "125/125 [==============================] - 0s 3ms/step - loss: 0.6920 - acc: 0.5267 - val_loss: 0.6927 - val_acc: 0.5200\n",
            "Epoch 34/50\n",
            "125/125 [==============================] - 0s 3ms/step - loss: 0.6919 - acc: 0.5143 - val_loss: 0.6927 - val_acc: 0.5220\n",
            "Epoch 35/50\n",
            "125/125 [==============================] - 0s 3ms/step - loss: 0.6917 - acc: 0.5251 - val_loss: 0.6926 - val_acc: 0.5200\n",
            "Epoch 36/50\n",
            "125/125 [==============================] - 0s 3ms/step - loss: 0.6916 - acc: 0.5210 - val_loss: 0.6921 - val_acc: 0.5320\n",
            "Epoch 37/50\n",
            "125/125 [==============================] - 0s 3ms/step - loss: 0.6929 - acc: 0.5077 - val_loss: 0.6926 - val_acc: 0.5220\n",
            "Epoch 38/50\n",
            "125/125 [==============================] - 0s 3ms/step - loss: 0.6917 - acc: 0.5230 - val_loss: 0.6922 - val_acc: 0.5220\n",
            "Epoch 39/50\n",
            "125/125 [==============================] - 0s 3ms/step - loss: 0.6919 - acc: 0.5226 - val_loss: 0.6924 - val_acc: 0.5180\n",
            "Epoch 40/50\n",
            "125/125 [==============================] - 0s 3ms/step - loss: 0.6907 - acc: 0.5247 - val_loss: 0.6918 - val_acc: 0.5340\n",
            "Epoch 41/50\n",
            "125/125 [==============================] - 0s 3ms/step - loss: 0.6909 - acc: 0.5400 - val_loss: 0.6916 - val_acc: 0.5440\n",
            "Epoch 42/50\n",
            "125/125 [==============================] - 0s 3ms/step - loss: 0.6928 - acc: 0.4986 - val_loss: 0.6918 - val_acc: 0.5340\n",
            "Epoch 43/50\n",
            "125/125 [==============================] - 0s 3ms/step - loss: 0.6924 - acc: 0.5086 - val_loss: 0.6919 - val_acc: 0.5300\n",
            "Epoch 44/50\n",
            "125/125 [==============================] - 0s 3ms/step - loss: 0.6923 - acc: 0.4947 - val_loss: 0.6916 - val_acc: 0.5340\n",
            "Epoch 45/50\n",
            "125/125 [==============================] - 0s 3ms/step - loss: 0.6915 - acc: 0.5120 - val_loss: 0.6915 - val_acc: 0.5460\n",
            "Epoch 46/50\n",
            "125/125 [==============================] - 0s 3ms/step - loss: 0.6915 - acc: 0.5084 - val_loss: 0.6916 - val_acc: 0.5340\n",
            "Epoch 47/50\n",
            "125/125 [==============================] - 0s 3ms/step - loss: 0.6917 - acc: 0.5224 - val_loss: 0.6914 - val_acc: 0.5420\n",
            "Epoch 48/50\n",
            "125/125 [==============================] - 0s 3ms/step - loss: 0.6922 - acc: 0.5026 - val_loss: 0.6917 - val_acc: 0.5320\n",
            "Epoch 49/50\n",
            "125/125 [==============================] - 0s 3ms/step - loss: 0.6909 - acc: 0.5055 - val_loss: 0.6915 - val_acc: 0.5280\n",
            "Epoch 50/50\n",
            "125/125 [==============================] - 0s 3ms/step - loss: 0.6916 - acc: 0.5210 - val_loss: 0.6915 - val_acc: 0.5460\n"
          ],
          "name": "stdout"
        },
        {
          "output_type": "execute_result",
          "data": {
            "text/plain": [
              "<tensorflow.python.keras.callbacks.History at 0x7fc5a1cc52d0>"
            ]
          },
          "metadata": {
            "tags": []
          },
          "execution_count": 268
        }
      ]
    },
    {
      "cell_type": "code",
      "metadata": {
        "id": "i6MuTC9cZhFm"
      },
      "source": [
        "preds=model.predict(x[:2500])"
      ],
      "execution_count": null,
      "outputs": []
    },
    {
      "cell_type": "code",
      "metadata": {
        "colab": {
          "base_uri": "https://localhost:8080/"
        },
        "id": "L-wwaIImZsFe",
        "outputId": "15e12f0c-232c-4086-e20b-dea175f6738f"
      },
      "source": [
        "preds"
      ],
      "execution_count": null,
      "outputs": [
        {
          "output_type": "execute_result",
          "data": {
            "text/plain": [
              "array([[0.49645746],\n",
              "       [0.49675015],\n",
              "       [0.49645066],\n",
              "       ...,\n",
              "       [0.495244  ],\n",
              "       [0.49389213],\n",
              "       [0.4962319 ]], dtype=float32)"
            ]
          },
          "metadata": {
            "tags": []
          },
          "execution_count": 270
        }
      ]
    },
    {
      "cell_type": "code",
      "metadata": {
        "id": "GREaM6j_ZuIU"
      },
      "source": [
        ""
      ],
      "execution_count": null,
      "outputs": []
    }
  ]
}