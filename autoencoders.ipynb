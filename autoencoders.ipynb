{
  "nbformat": 4,
  "nbformat_minor": 0,
  "metadata": {
    "colab": {
      "name": "autoencoders.ipynb",
      "provenance": [],
      "collapsed_sections": [],
      "include_colab_link": true
    },
    "kernelspec": {
      "name": "python3",
      "display_name": "Python 3"
    },
    "accelerator": "GPU"
  },
  "cells": [
    {
      "cell_type": "markdown",
      "metadata": {
        "id": "view-in-github",
        "colab_type": "text"
      },
      "source": [
        "<a href=\"https://colab.research.google.com/github/alecbidaran/Simple-deep-learning-projects/blob/main/autoencoders.ipynb\" target=\"_parent\"><img src=\"https://colab.research.google.com/assets/colab-badge.svg\" alt=\"Open In Colab\"/></a>"
      ]
    },
    {
      "cell_type": "code",
      "metadata": {
        "id": "Kmby3_DdPXay",
        "colab": {
          "base_uri": "https://localhost:8080/",
          "height": 33
        },
        "outputId": "6ee30848-f922-4a87-eefe-e648ffdbc9e8"
      },
      "source": [
        "try:\n",
        "    # %tensorflow_version only exists in Colab.\n",
        "    %tensorflow_version 2.x\n",
        "    IS_COLAB = True\n",
        "except Exception:\n",
        "    IS_COLAB = False\n",
        "\n",
        "# TensorFlow ≥2.0 is required\n",
        "import tensorflow as tf\n",
        "from tensorflow import keras\n",
        "assert tf.__version__ >= \"2.0\""
      ],
      "execution_count": null,
      "outputs": [
        {
          "output_type": "stream",
          "text": [
            "TensorFlow 2.x selected.\n"
          ],
          "name": "stdout"
        }
      ]
    },
    {
      "cell_type": "code",
      "metadata": {
        "id": "pY09ZvtFQXAs"
      },
      "source": [
        "import numpy as np\n",
        "%matplotlib inline\n",
        "import matplotlib as mpl\n",
        "import matplotlib.pyplot as plt\n",
        "import pandas as pd \n",
        "mpl.rc('axes', labelsize=14)\n",
        "mpl.rc('xtick', labelsize=12)\n",
        "mpl.rc('ytick', labelsize=12)"
      ],
      "execution_count": null,
      "outputs": []
    },
    {
      "cell_type": "code",
      "metadata": {
        "id": "V5jiMHBQQe8J",
        "colab": {
          "base_uri": "https://localhost:8080/",
          "height": 150
        },
        "outputId": "f09b5784-2395-49d1-805a-5a076ea7f468"
      },
      "source": [
        "(X_train_full, y_train_full), (X_test, y_test) = keras.datasets.fashion_mnist.load_data()\n",
        "X_train_full = X_train_full.astype(np.float32) / 255\n",
        "X_test = X_test.astype(np.float32) / 255\n",
        "X_train, X_valid = X_train_full[:-5000], X_train_full[-5000:]\n",
        "y_train, y_valid = y_train_full[:-5000], y_train_full[-5000:]"
      ],
      "execution_count": null,
      "outputs": [
        {
          "output_type": "stream",
          "text": [
            "Downloading data from https://storage.googleapis.com/tensorflow/tf-keras-datasets/train-labels-idx1-ubyte.gz\n",
            "32768/29515 [=================================] - 0s 0us/step\n",
            "Downloading data from https://storage.googleapis.com/tensorflow/tf-keras-datasets/train-images-idx3-ubyte.gz\n",
            "26427392/26421880 [==============================] - 0s 0us/step\n",
            "Downloading data from https://storage.googleapis.com/tensorflow/tf-keras-datasets/t10k-labels-idx1-ubyte.gz\n",
            "8192/5148 [===============================================] - 0s 0us/step\n",
            "Downloading data from https://storage.googleapis.com/tensorflow/tf-keras-datasets/t10k-images-idx3-ubyte.gz\n",
            "4423680/4422102 [==============================] - 0s 0us/step\n"
          ],
          "name": "stdout"
        }
      ]
    },
    {
      "cell_type": "code",
      "metadata": {
        "id": "VTcq0-FGRcwG",
        "colab": {
          "base_uri": "https://localhost:8080/",
          "height": 33
        },
        "outputId": "2cda6b4a-bf46-4577-cd33-0dc2b1440e19"
      },
      "source": [
        "y_train_full.shape"
      ],
      "execution_count": null,
      "outputs": [
        {
          "output_type": "execute_result",
          "data": {
            "text/plain": [
              "(60000,)"
            ]
          },
          "metadata": {
            "tags": []
          },
          "execution_count": 9
        }
      ]
    },
    {
      "cell_type": "code",
      "metadata": {
        "id": "B7U1uM13QpNr"
      },
      "source": [
        "def rounded_accuracy(y_true, y_pred):\n",
        "    return keras.metrics.binary_accuracy(tf.round(y_true), tf.round(y_pred))"
      ],
      "execution_count": null,
      "outputs": []
    },
    {
      "cell_type": "code",
      "metadata": {
        "id": "HUY5S8ygQtv-"
      },
      "source": [
        "stack_encoder=keras.models.Sequential([keras.layers.Flatten(input_shape=[28,28]),\n",
        "                                      keras.layers.Dense(100,activation='selu'),\n",
        "                                      keras.layers.Dense(30,activation='selu')])\n",
        "stack_decoder=keras.models.Sequential([keras.layers.Dense(100,activation='selu',input_shape=[30]),\n",
        "                                       keras.layers.Dense(28*28,activation='sigmoid'),\n",
        "                                       keras.layers.Reshape([28,28])])\n",
        "stack_ae=keras.models.Sequential([stack_encoder,stack_decoder])"
      ],
      "execution_count": null,
      "outputs": []
    },
    {
      "cell_type": "code",
      "metadata": {
        "id": "5oZghnENSVoo",
        "colab": {
          "base_uri": "https://localhost:8080/",
          "height": 228
        },
        "outputId": "b32f96b7-5d1b-4030-f6ac-29cc143b7413"
      },
      "source": [
        "stack_ae.summary()"
      ],
      "execution_count": null,
      "outputs": [
        {
          "output_type": "stream",
          "text": [
            "Model: \"sequential_5\"\n",
            "_________________________________________________________________\n",
            "Layer (type)                 Output Shape              Param #   \n",
            "=================================================================\n",
            "sequential_3 (Sequential)    (None, 30)                81530     \n",
            "_________________________________________________________________\n",
            "sequential_4 (Sequential)    (None, 28, 28)            82284     \n",
            "=================================================================\n",
            "Total params: 163,814\n",
            "Trainable params: 163,814\n",
            "Non-trainable params: 0\n",
            "_________________________________________________________________\n"
          ],
          "name": "stdout"
        }
      ]
    },
    {
      "cell_type": "code",
      "metadata": {
        "id": "UfoNMMOEScbo"
      },
      "source": [
        "stack_ae.compile(loss=\"binary_crossentropy\",\n",
        "                   optimizer=keras.optimizers.SGD(lr=1.5), metrics=[rounded_accuracy])"
      ],
      "execution_count": null,
      "outputs": []
    },
    {
      "cell_type": "code",
      "metadata": {
        "id": "Saa5JBn0Sip6",
        "colab": {
          "base_uri": "https://localhost:8080/",
          "height": 722
        },
        "outputId": "c7adba8f-a63a-48a2-9cd6-b8553969c41b"
      },
      "source": [
        "histoy=stack_ae.fit(X_train,X_train,batch_size=32,epochs=20,validation_data=[X_valid,X_valid],verbose=1)"
      ],
      "execution_count": null,
      "outputs": [
        {
          "output_type": "stream",
          "text": [
            "Train on 55000 samples, validate on 5000 samples\n",
            "Epoch 1/20\n",
            "55000/55000 [==============================] - 7s 128us/sample - loss: 0.3359 - rounded_accuracy: 0.8891 - val_loss: 0.3104 - val_rounded_accuracy: 0.9118\n",
            "Epoch 2/20\n",
            "55000/55000 [==============================] - 5s 98us/sample - loss: 0.3039 - rounded_accuracy: 0.9167 - val_loss: 0.3049 - val_rounded_accuracy: 0.9115\n",
            "Epoch 3/20\n",
            "55000/55000 [==============================] - 5s 97us/sample - loss: 0.2968 - rounded_accuracy: 0.9230 - val_loss: 0.2954 - val_rounded_accuracy: 0.9267\n",
            "Epoch 4/20\n",
            "55000/55000 [==============================] - 5s 98us/sample - loss: 0.2927 - rounded_accuracy: 0.9267 - val_loss: 0.2939 - val_rounded_accuracy: 0.9240\n",
            "Epoch 5/20\n",
            "55000/55000 [==============================] - 5s 97us/sample - loss: 0.2901 - rounded_accuracy: 0.9291 - val_loss: 0.2899 - val_rounded_accuracy: 0.9305\n",
            "Epoch 6/20\n",
            "55000/55000 [==============================] - 5s 98us/sample - loss: 0.2882 - rounded_accuracy: 0.9308 - val_loss: 0.2888 - val_rounded_accuracy: 0.9310\n",
            "Epoch 7/20\n",
            "55000/55000 [==============================] - 5s 97us/sample - loss: 0.2868 - rounded_accuracy: 0.9321 - val_loss: 0.2872 - val_rounded_accuracy: 0.9337\n",
            "Epoch 8/20\n",
            "55000/55000 [==============================] - 5s 99us/sample - loss: 0.2856 - rounded_accuracy: 0.9331 - val_loss: 0.2876 - val_rounded_accuracy: 0.9304\n",
            "Epoch 9/20\n",
            "55000/55000 [==============================] - 6s 100us/sample - loss: 0.2846 - rounded_accuracy: 0.9340 - val_loss: 0.2860 - val_rounded_accuracy: 0.9337\n",
            "Epoch 10/20\n",
            "55000/55000 [==============================] - 5s 97us/sample - loss: 0.2838 - rounded_accuracy: 0.9348 - val_loss: 0.2846 - val_rounded_accuracy: 0.9358\n",
            "Epoch 11/20\n",
            "55000/55000 [==============================] - 5s 99us/sample - loss: 0.2831 - rounded_accuracy: 0.9354 - val_loss: 0.2841 - val_rounded_accuracy: 0.9363\n",
            "Epoch 12/20\n",
            "55000/55000 [==============================] - 5s 98us/sample - loss: 0.2826 - rounded_accuracy: 0.9358 - val_loss: 0.2855 - val_rounded_accuracy: 0.9357\n",
            "Epoch 13/20\n",
            "55000/55000 [==============================] - 5s 98us/sample - loss: 0.2821 - rounded_accuracy: 0.9363 - val_loss: 0.2834 - val_rounded_accuracy: 0.9363\n",
            "Epoch 14/20\n",
            "55000/55000 [==============================] - 5s 98us/sample - loss: 0.2815 - rounded_accuracy: 0.9368 - val_loss: 0.2841 - val_rounded_accuracy: 0.9329\n",
            "Epoch 15/20\n",
            "55000/55000 [==============================] - 5s 100us/sample - loss: 0.2812 - rounded_accuracy: 0.9371 - val_loss: 0.2825 - val_rounded_accuracy: 0.9370\n",
            "Epoch 16/20\n",
            "55000/55000 [==============================] - 5s 98us/sample - loss: 0.2807 - rounded_accuracy: 0.9376 - val_loss: 0.2824 - val_rounded_accuracy: 0.9364\n",
            "Epoch 17/20\n",
            "55000/55000 [==============================] - 5s 99us/sample - loss: 0.2805 - rounded_accuracy: 0.9378 - val_loss: 0.2819 - val_rounded_accuracy: 0.9373\n",
            "Epoch 18/20\n",
            "55000/55000 [==============================] - 5s 99us/sample - loss: 0.2801 - rounded_accuracy: 0.9381 - val_loss: 0.2813 - val_rounded_accuracy: 0.9386\n",
            "Epoch 19/20\n",
            "55000/55000 [==============================] - 5s 100us/sample - loss: 0.2798 - rounded_accuracy: 0.9384 - val_loss: 0.2817 - val_rounded_accuracy: 0.9395\n",
            "Epoch 20/20\n",
            "55000/55000 [==============================] - 5s 99us/sample - loss: 0.2795 - rounded_accuracy: 0.9387 - val_loss: 0.2822 - val_rounded_accuracy: 0.9383\n"
          ],
          "name": "stdout"
        }
      ]
    },
    {
      "cell_type": "code",
      "metadata": {
        "id": "nmvzaQZWS0gN"
      },
      "source": [
        "def show_reconstructions(model, images=X_valid, n_images=5):\n",
        "    reconstructions = model.predict(images[:n_images])\n",
        "    fig = plt.figure(figsize=(n_images * 1.5, 3))\n",
        "    for image_index in range(n_images):\n",
        "        plt.subplot(2, n_images, 1 + image_index)\n",
        "        plt.imshow(images[image_index],cmap='binary')\n",
        "        plt.subplot(2, n_images, 1 + n_images + image_index)\n",
        "        plt.imshow(reconstructions[image_index],cmap='binary')"
      ],
      "execution_count": null,
      "outputs": []
    },
    {
      "cell_type": "code",
      "metadata": {
        "id": "pyQG_6i9T0yc",
        "colab": {
          "base_uri": "https://localhost:8080/",
          "height": 216
        },
        "outputId": "cab0a6fb-6e57-4598-dbfb-70e9db150b9f"
      },
      "source": [
        "show_reconstructions(stack_ae)"
      ],
      "execution_count": null,
      "outputs": [
        {
          "output_type": "display_data",
          "data": {
            "image/png": "[encoded data removed]",
            "text/plain": [
              "<Figure size 540x216 with 10 Axes>"
            ]
          },
          "metadata": {
            "tags": []
          }
        }
      ]
    },
    {
      "cell_type": "markdown",
      "metadata": {
        "id": "x00Sbxj6VPsK"
      },
      "source": [
        "# convAutoencoder"
      ]
    },
    {
      "cell_type": "code",
      "metadata": {
        "id": "gtUMfA7dT4MD"
      },
      "source": [
        "tf.random.set_seed(42)\n",
        "np.random.seed(42)\n",
        "latent_code=20\n",
        "conv_encoder = keras.models.Sequential([\n",
        "    keras.layers.Reshape([28, 28, 1], input_shape=[28, 28]),\n",
        "    keras.layers.Conv2D(16, kernel_size=3, padding=\"SAME\", activation=\"selu\"),\n",
        "    keras.layers.MaxPool2D(pool_size=2),\n",
        "    keras.layers.Conv2D(32, kernel_size=3, padding=\"SAME\", activation=\"selu\"),\n",
        "    keras.layers.MaxPool2D(pool_size=2),\n",
        "    keras.layers.Conv2D(64, kernel_size=3, padding=\"SAME\", activation=\"selu\"),\n",
        "    keras.layers.MaxPool2D(pool_size=2),\n",
        "    keras.layers.Flatten(),\n",
        "    keras.layers.Dense(latent_code)\n",
        "])\n",
        "conv_decoder = keras.models.Sequential([\n",
        "    keras.layers.Input(shape=(latent_code,)),\n",
        "    keras.layers.Dense(3*3*64),\n",
        "    keras.layers.Reshape((3,3,64)),\n",
        "    keras.layers.Conv2DTranspose(32, kernel_size=3, strides=2, padding=\"VALID\", activation=\"selu\",),\n",
        "    keras.layers.Conv2DTranspose(16, kernel_size=3, strides=2, padding=\"SAME\", activation=\"selu\"),\n",
        "    keras.layers.Conv2DTranspose(1, kernel_size=3, strides=2, padding=\"SAME\", activation=\"sigmoid\"),\n",
        "    keras.layers.Reshape([28, 28])\n",
        "])\n",
        "conv_ae = keras.models.Sequential([conv_encoder, conv_decoder])\n"
      ],
      "execution_count": null,
      "outputs": []
    },
    {
      "cell_type": "code",
      "metadata": {
        "id": "SznJrV0IXvc5",
        "colab": {
          "base_uri": "https://localhost:8080/",
          "height": 228
        },
        "outputId": "4689c006-ace0-40f8-862e-067d687e40b9"
      },
      "source": [
        "conv_ae.summary()"
      ],
      "execution_count": null,
      "outputs": [
        {
          "output_type": "stream",
          "text": [
            "Model: \"sequential_11\"\n",
            "_________________________________________________________________\n",
            "Layer (type)                 Output Shape              Param #   \n",
            "=================================================================\n",
            "sequential_9 (Sequential)    (None, 100)               80996     \n",
            "_________________________________________________________________\n",
            "sequential_10 (Sequential)   (None, 28, 28)            81409     \n",
            "=================================================================\n",
            "Total params: 162,405\n",
            "Trainable params: 162,405\n",
            "Non-trainable params: 0\n",
            "_________________________________________________________________\n"
          ],
          "name": "stdout"
        }
      ]
    },
    {
      "cell_type": "code",
      "metadata": {
        "id": "tUYZjB60YJw8"
      },
      "source": [
        "conv_ae.compile(loss=\"binary_crossentropy\",\n",
        "                   optimizer=keras.optimizers.SGD(lr=0.01), metrics=[rounded_accuracy])"
      ],
      "execution_count": null,
      "outputs": []
    },
    {
      "cell_type": "code",
      "metadata": {
        "id": "wjc-SSAPXxTb",
        "colab": {
          "base_uri": "https://localhost:8080/",
          "height": 738
        },
        "outputId": "796f521e-5319-4b00-c72e-31f4a263cec1"
      },
      "source": [
        "histoy1=conv_ae.fit(X_train,X_train,verbose=1,validation_data=[X_valid,X_valid],epochs=20)"
      ],
      "execution_count": null,
      "outputs": [
        {
          "output_type": "stream",
          "text": [
            "Train on 55000 samples, validate on 5000 samples\n",
            "Epoch 1/20\n",
            "55000/55000 [==============================] - 9s 156us/sample - loss: 0.6088 - rounded_accuracy: 0.6853 - val_loss: 0.5999 - val_rounded_accuracy: 0.6824\n",
            "Epoch 2/20\n",
            "55000/55000 [==============================] - 8s 140us/sample - loss: 0.5945 - rounded_accuracy: 0.6856 - val_loss: 0.5907 - val_rounded_accuracy: 0.6824\n",
            "Epoch 3/20\n",
            "55000/55000 [==============================] - 8s 142us/sample - loss: 0.5387 - rounded_accuracy: 0.7218 - val_loss: 0.4828 - val_rounded_accuracy: 0.7771\n",
            "Epoch 4/20\n",
            "55000/55000 [==============================] - 8s 141us/sample - loss: 0.4420 - rounded_accuracy: 0.8176 - val_loss: 0.4064 - val_rounded_accuracy: 0.8464\n",
            "Epoch 5/20\n",
            "55000/55000 [==============================] - 8s 138us/sample - loss: 0.3827 - rounded_accuracy: 0.8607 - val_loss: 0.3688 - val_rounded_accuracy: 0.8707\n",
            "Epoch 6/20\n",
            "55000/55000 [==============================] - 8s 138us/sample - loss: 0.3566 - rounded_accuracy: 0.8780 - val_loss: 0.3518 - val_rounded_accuracy: 0.8823\n",
            "Epoch 7/20\n",
            "55000/55000 [==============================] - 8s 145us/sample - loss: 0.3453 - rounded_accuracy: 0.8857 - val_loss: 0.3444 - val_rounded_accuracy: 0.8874\n",
            "Epoch 8/20\n",
            "55000/55000 [==============================] - 8s 137us/sample - loss: 0.3393 - rounded_accuracy: 0.8899 - val_loss: 0.3393 - val_rounded_accuracy: 0.8912\n",
            "Epoch 9/20\n",
            "55000/55000 [==============================] - 8s 142us/sample - loss: 0.3348 - rounded_accuracy: 0.8932 - val_loss: 0.3351 - val_rounded_accuracy: 0.8940\n",
            "Epoch 10/20\n",
            "55000/55000 [==============================] - 7s 136us/sample - loss: 0.3310 - rounded_accuracy: 0.8959 - val_loss: 0.3316 - val_rounded_accuracy: 0.8969\n",
            "Epoch 11/20\n",
            "55000/55000 [==============================] - 8s 141us/sample - loss: 0.3279 - rounded_accuracy: 0.8983 - val_loss: 0.3287 - val_rounded_accuracy: 0.8994\n",
            "Epoch 12/20\n",
            "55000/55000 [==============================] - 8s 142us/sample - loss: 0.3252 - rounded_accuracy: 0.9003 - val_loss: 0.3262 - val_rounded_accuracy: 0.9008\n",
            "Epoch 13/20\n",
            "55000/55000 [==============================] - 8s 141us/sample - loss: 0.3229 - rounded_accuracy: 0.9022 - val_loss: 0.3239 - val_rounded_accuracy: 0.9026\n",
            "Epoch 14/20\n",
            "55000/55000 [==============================] - 8s 138us/sample - loss: 0.3208 - rounded_accuracy: 0.9038 - val_loss: 0.3220 - val_rounded_accuracy: 0.9044\n",
            "Epoch 15/20\n",
            "55000/55000 [==============================] - 8s 140us/sample - loss: 0.3190 - rounded_accuracy: 0.9052 - val_loss: 0.3202 - val_rounded_accuracy: 0.9052\n",
            "Epoch 16/20\n",
            "55000/55000 [==============================] - 8s 138us/sample - loss: 0.3173 - rounded_accuracy: 0.9066 - val_loss: 0.3185 - val_rounded_accuracy: 0.9065\n",
            "Epoch 17/20\n",
            "55000/55000 [==============================] - 8s 144us/sample - loss: 0.3157 - rounded_accuracy: 0.9078 - val_loss: 0.3170 - val_rounded_accuracy: 0.9083\n",
            "Epoch 18/20\n",
            "55000/55000 [==============================] - 8s 138us/sample - loss: 0.3143 - rounded_accuracy: 0.9090 - val_loss: 0.3156 - val_rounded_accuracy: 0.9089\n",
            "Epoch 19/20\n",
            "55000/55000 [==============================] - 8s 142us/sample - loss: 0.3130 - rounded_accuracy: 0.9100 - val_loss: 0.3144 - val_rounded_accuracy: 0.9102\n",
            "Epoch 20/20\n",
            "55000/55000 [==============================] - 8s 142us/sample - loss: 0.3118 - rounded_accuracy: 0.9110 - val_loss: 0.3132 - val_rounded_accuracy: 0.9109\n"
          ],
          "name": "stdout"
        }
      ]
    },
    {
      "cell_type": "code",
      "metadata": {
        "id": "cFc_6MCnX_2E",
        "colab": {
          "base_uri": "https://localhost:8080/",
          "height": 216
        },
        "outputId": "a16d0c24-7f72-41f2-a23b-d5be1943018c"
      },
      "source": [
        "show_reconstructions(conv_ae)"
      ],
      "execution_count": null,
      "outputs": [
        {
          "output_type": "display_data",
          "data": {
            "image/png": "[encoded data removed]",
            "text/plain": [
              "<Figure size 540x216 with 10 Axes>"
            ]
          },
          "metadata": {
            "tags": []
          }
        }
      ]
    },
    {
      "cell_type": "code",
      "metadata": {
        "id": "8JpdJd5oa6nK"
      },
      "source": [
        ""
      ],
      "execution_count": null,
      "outputs": []
    }
  ]
}