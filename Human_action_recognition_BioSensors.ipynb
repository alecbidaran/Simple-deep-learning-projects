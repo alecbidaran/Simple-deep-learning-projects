{
  "nbformat": 4,
  "nbformat_minor": 0,
  "metadata": {
    "colab": {
      "name": "pattern_project.ipynb",
      "provenance": [],
      "collapsed_sections": [],
      "toc_visible": true,
      "machine_shape": "hm",
      "mount_file_id": "1A7KJqgmFnBgO1u5Aw2nDvCb-gkpBCWtl",
      "authorship_tag": "ABX9TyNm4kt29tb51bpQsGrdWlD5",
      "include_colab_link": true
    },
    "kernelspec": {
      "name": "python3",
      "display_name": "Python 3"
    },
    "accelerator": "GPU"
  },
  "cells": [
    {
      "cell_type": "markdown",
      "metadata": {
        "id": "view-in-github",
        "colab_type": "text"
      },
      "source": [
        "<a href=\"https://colab.research.google.com/github/alecbidaran/Simple-deep-learning-projects/blob/main/Human_action_recognition_BioSensors.ipynb\" target=\"_parent\"><img src=\"https://colab.research.google.com/assets/colab-badge.svg\" alt=\"Open In Colab\"/></a>"
      ]
    },
    {
      "cell_type": "code",
      "metadata": {
        "id": "RejtzDw6Pq1R"
      },
      "source": [
        "%tensorflow_version 2.x\n",
        "from tensorflow.keras.losses import binary_crossentropy, mean_squared_error\n",
        "import tensorflow.keras.backend as K\n",
        "from tensorflow.keras.models import Model\n",
        "from tensorflow.keras.layers import Input, concatenate, Conv2D, MaxPooling3D, Activation, UpSampling2D, BatchNormalization, add, concatenate, Lambda, Flatten, Conv2DTranspose,DepthwiseConv2D,ConvLSTM2D,TimeDistributed,Dropout\n",
        "from tensorflow.keras.optimizers import RMSprop,Adam\n",
        "import tensorflow.keras as keras \n",
        "import tensorflow as tf\n",
        "import numpy as np \n",
        "import cv2 \n",
        "import os \n",
        "from scipy import stats\n",
        "from sklearn.preprocessing import LabelEncoder"
      ],
      "execution_count": null,
      "outputs": []
    },
    {
      "cell_type": "code",
      "metadata": {
        "id": "9px5jWRMQBHX",
        "colab": {
          "base_uri": "https://localhost:8080/"
        },
        "outputId": "180a9116-df4c-42c5-cb2c-5fca3c9ba704"
      },
      "source": [
        "!git clone https://github.com/bartkowiaktomasz/har-wisdm-lstm-rnns.git"
      ],
      "execution_count": null,
      "outputs": [
        {
          "output_type": "stream",
          "text": [
            "Cloning into 'har-wisdm-lstm-rnns'...\n",
            "remote: Enumerating objects: 84, done.\u001b[K\n",
            "remote: Total 84 (delta 0), reused 0 (delta 0), pack-reused 84\u001b[K\n",
            "Unpacking objects: 100% (84/84), done.\n"
          ],
          "name": "stdout"
        }
      ]
    },
    {
      "cell_type": "code",
      "metadata": {
        "id": "lXaaol-FQkO_"
      },
      "source": [
        "import pandas as pd \n",
        "from scipy.io import arff"
      ],
      "execution_count": null,
      "outputs": []
    },
    {
      "cell_type": "code",
      "metadata": {
        "id": "EQTGJa0uQwUV"
      },
      "source": [
        "COLUMN_NAMES = [\n",
        "    'user',\n",
        "    'activity',\n",
        "    'timestamp',\n",
        "    'x-axis',\n",
        "    'y-axis',\n",
        "    'z-axis'\n",
        "]\n",
        "LABELS = [\n",
        "    'Downstairs',\n",
        "    'Jogging',\n",
        "    'Sitting',\n",
        "    'Standing',\n",
        "    'Upstairs',\n",
        "    'Walking'\n",
        "]\n",
        "dataset=pd.read_csv(\"/content/har-wisdm-lstm-rnns/data/WISDM_ar_v1.1_raw.txt\",header=None,names=COLUMN_NAMES )\n"
      ],
      "execution_count": null,
      "outputs": []
    },
    {
      "cell_type": "code",
      "metadata": {
        "id": "VOXTEWDWgFdx",
        "colab": {
          "base_uri": "https://localhost:8080/",
          "height": 402
        },
        "outputId": "72f20460-46e5-4a05-c699-bbaf4446301d"
      },
      "source": [
        "dataset['z-axis'].replace(to_replace=r';',value=r'',regex=True,inplace=True)\n",
        "dataset['z-axis'] = dataset['z-axis'].astype('float')\n",
        "dataset.dropna(axis=0, how='any', inplace=True)\n",
        "dataset.sample(100)"
      ],
      "execution_count": null,
      "outputs": [
        {
          "output_type": "execute_result",
          "data": {
            "text/html": [
              "<div>\n",
              "<style scoped>\n",
              "    .dataframe tbody tr th:only-of-type {\n",
              "        vertical-align: middle;\n",
              "    }\n",
              "\n",
              "    .dataframe tbody tr th {\n",
              "        vertical-align: top;\n",
              "    }\n",
              "\n",
              "    .dataframe thead th {\n",
              "        text-align: right;\n",
              "    }\n",
              "</style>\n",
              "<table border=\"1\" class=\"dataframe\">\n",
              "  <thead>\n",
              "    <tr style=\"text-align: right;\">\n",
              "      <th></th>\n",
              "      <th>user</th>\n",
              "      <th>activity</th>\n",
              "      <th>timestamp</th>\n",
              "      <th>x-axis</th>\n",
              "      <th>y-axis</th>\n",
              "      <th>z-axis</th>\n",
              "    </tr>\n",
              "  </thead>\n",
              "  <tbody>\n",
              "    <tr>\n",
              "      <th>206765</th>\n",
              "      <td>27</td>\n",
              "      <td>Walking</td>\n",
              "      <td>11299142285000</td>\n",
              "      <td>17.31</td>\n",
              "      <td>-2.64</td>\n",
              "      <td>6.660350</td>\n",
              "    </tr>\n",
              "    <tr>\n",
              "      <th>678059</th>\n",
              "      <td>4</td>\n",
              "      <td>Walking</td>\n",
              "      <td>2764422343000</td>\n",
              "      <td>1.65</td>\n",
              "      <td>9.66</td>\n",
              "      <td>0.890000</td>\n",
              "    </tr>\n",
              "    <tr>\n",
              "      <th>792799</th>\n",
              "      <td>31</td>\n",
              "      <td>Walking</td>\n",
              "      <td>22621002052000</td>\n",
              "      <td>-3.41</td>\n",
              "      <td>6.17</td>\n",
              "      <td>1.230000</td>\n",
              "    </tr>\n",
              "    <tr>\n",
              "      <th>401666</th>\n",
              "      <td>10</td>\n",
              "      <td>Walking</td>\n",
              "      <td>3439442333000</td>\n",
              "      <td>11.22</td>\n",
              "      <td>18.28</td>\n",
              "      <td>12.340000</td>\n",
              "    </tr>\n",
              "    <tr>\n",
              "      <th>638092</th>\n",
              "      <td>12</td>\n",
              "      <td>Jogging</td>\n",
              "      <td>18357351662000</td>\n",
              "      <td>2.30</td>\n",
              "      <td>-4.48</td>\n",
              "      <td>-8.770000</td>\n",
              "    </tr>\n",
              "    <tr>\n",
              "      <th>...</th>\n",
              "      <td>...</td>\n",
              "      <td>...</td>\n",
              "      <td>...</td>\n",
              "      <td>...</td>\n",
              "      <td>...</td>\n",
              "      <td>...</td>\n",
              "    </tr>\n",
              "    <tr>\n",
              "      <th>1097930</th>\n",
              "      <td>19</td>\n",
              "      <td>Sitting</td>\n",
              "      <td>131609891511000</td>\n",
              "      <td>8.73</td>\n",
              "      <td>-0.99</td>\n",
              "      <td>1.880000</td>\n",
              "    </tr>\n",
              "    <tr>\n",
              "      <th>465724</th>\n",
              "      <td>33</td>\n",
              "      <td>Sitting</td>\n",
              "      <td>679612315000</td>\n",
              "      <td>5.75</td>\n",
              "      <td>2.60</td>\n",
              "      <td>7.780000</td>\n",
              "    </tr>\n",
              "    <tr>\n",
              "      <th>343488</th>\n",
              "      <td>11</td>\n",
              "      <td>Walking</td>\n",
              "      <td>1870752269000</td>\n",
              "      <td>4.40</td>\n",
              "      <td>8.54</td>\n",
              "      <td>6.129157</td>\n",
              "    </tr>\n",
              "    <tr>\n",
              "      <th>289938</th>\n",
              "      <td>32</td>\n",
              "      <td>Jogging</td>\n",
              "      <td>23878912215000</td>\n",
              "      <td>-13.21</td>\n",
              "      <td>19.38</td>\n",
              "      <td>-4.794363</td>\n",
              "    </tr>\n",
              "    <tr>\n",
              "      <th>984045</th>\n",
              "      <td>25</td>\n",
              "      <td>Walking</td>\n",
              "      <td>7821082349000</td>\n",
              "      <td>0.27</td>\n",
              "      <td>9.81</td>\n",
              "      <td>1.650000</td>\n",
              "    </tr>\n",
              "  </tbody>\n",
              "</table>\n",
              "<p>100 rows × 6 columns</p>\n",
              "</div>"
            ],
            "text/plain": [
              "         user activity        timestamp  x-axis  y-axis     z-axis\n",
              "206765     27  Walking   11299142285000   17.31   -2.64   6.660350\n",
              "678059      4  Walking    2764422343000    1.65    9.66   0.890000\n",
              "792799     31  Walking   22621002052000   -3.41    6.17   1.230000\n",
              "401666     10  Walking    3439442333000   11.22   18.28  12.340000\n",
              "638092     12  Jogging   18357351662000    2.30   -4.48  -8.770000\n",
              "...       ...      ...              ...     ...     ...        ...\n",
              "1097930    19  Sitting  131609891511000    8.73   -0.99   1.880000\n",
              "465724     33  Sitting     679612315000    5.75    2.60   7.780000\n",
              "343488     11  Walking    1870752269000    4.40    8.54   6.129157\n",
              "289938     32  Jogging   23878912215000  -13.21   19.38  -4.794363\n",
              "984045     25  Walking    7821082349000    0.27    9.81   1.650000\n",
              "\n",
              "[100 rows x 6 columns]"
            ]
          },
          "metadata": {
            "tags": []
          },
          "execution_count": 5
        }
      ]
    },
    {
      "cell_type": "code",
      "metadata": {
        "id": "yaPy4EP8RFMU",
        "colab": {
          "base_uri": "https://localhost:8080/",
          "height": 402
        },
        "outputId": "2d80e913-3b95-4796-cfdd-e49bcbe09c27"
      },
      "source": [
        "dataset[['timestamp','x-axis','y-axis','z-axis']]"
      ],
      "execution_count": null,
      "outputs": [
        {
          "output_type": "execute_result",
          "data": {
            "text/html": [
              "<div>\n",
              "<style scoped>\n",
              "    .dataframe tbody tr th:only-of-type {\n",
              "        vertical-align: middle;\n",
              "    }\n",
              "\n",
              "    .dataframe tbody tr th {\n",
              "        vertical-align: top;\n",
              "    }\n",
              "\n",
              "    .dataframe thead th {\n",
              "        text-align: right;\n",
              "    }\n",
              "</style>\n",
              "<table border=\"1\" class=\"dataframe\">\n",
              "  <thead>\n",
              "    <tr style=\"text-align: right;\">\n",
              "      <th></th>\n",
              "      <th>timestamp</th>\n",
              "      <th>x-axis</th>\n",
              "      <th>y-axis</th>\n",
              "      <th>z-axis</th>\n",
              "    </tr>\n",
              "  </thead>\n",
              "  <tbody>\n",
              "    <tr>\n",
              "      <th>0</th>\n",
              "      <td>49105962326000</td>\n",
              "      <td>-0.694638</td>\n",
              "      <td>12.680544</td>\n",
              "      <td>0.503953</td>\n",
              "    </tr>\n",
              "    <tr>\n",
              "      <th>1</th>\n",
              "      <td>49106062271000</td>\n",
              "      <td>5.012288</td>\n",
              "      <td>11.264028</td>\n",
              "      <td>0.953424</td>\n",
              "    </tr>\n",
              "    <tr>\n",
              "      <th>2</th>\n",
              "      <td>49106112167000</td>\n",
              "      <td>4.903325</td>\n",
              "      <td>10.882658</td>\n",
              "      <td>-0.081722</td>\n",
              "    </tr>\n",
              "    <tr>\n",
              "      <th>3</th>\n",
              "      <td>49106222305000</td>\n",
              "      <td>-0.612916</td>\n",
              "      <td>18.496431</td>\n",
              "      <td>3.023717</td>\n",
              "    </tr>\n",
              "    <tr>\n",
              "      <th>4</th>\n",
              "      <td>49106332290000</td>\n",
              "      <td>-1.184970</td>\n",
              "      <td>12.108489</td>\n",
              "      <td>7.205164</td>\n",
              "    </tr>\n",
              "    <tr>\n",
              "      <th>...</th>\n",
              "      <td>...</td>\n",
              "      <td>...</td>\n",
              "      <td>...</td>\n",
              "      <td>...</td>\n",
              "    </tr>\n",
              "    <tr>\n",
              "      <th>1098199</th>\n",
              "      <td>131623331483000</td>\n",
              "      <td>9.000000</td>\n",
              "      <td>-1.570000</td>\n",
              "      <td>1.690000</td>\n",
              "    </tr>\n",
              "    <tr>\n",
              "      <th>1098200</th>\n",
              "      <td>131623371431000</td>\n",
              "      <td>9.040000</td>\n",
              "      <td>-1.460000</td>\n",
              "      <td>1.730000</td>\n",
              "    </tr>\n",
              "    <tr>\n",
              "      <th>1098201</th>\n",
              "      <td>131623411592000</td>\n",
              "      <td>9.080000</td>\n",
              "      <td>-1.380000</td>\n",
              "      <td>1.690000</td>\n",
              "    </tr>\n",
              "    <tr>\n",
              "      <th>1098202</th>\n",
              "      <td>131623491487000</td>\n",
              "      <td>9.000000</td>\n",
              "      <td>-1.460000</td>\n",
              "      <td>1.730000</td>\n",
              "    </tr>\n",
              "    <tr>\n",
              "      <th>1098203</th>\n",
              "      <td>131623531465000</td>\n",
              "      <td>8.880000</td>\n",
              "      <td>-1.330000</td>\n",
              "      <td>1.610000</td>\n",
              "    </tr>\n",
              "  </tbody>\n",
              "</table>\n",
              "<p>1098203 rows × 4 columns</p>\n",
              "</div>"
            ],
            "text/plain": [
              "               timestamp    x-axis     y-axis    z-axis\n",
              "0         49105962326000 -0.694638  12.680544  0.503953\n",
              "1         49106062271000  5.012288  11.264028  0.953424\n",
              "2         49106112167000  4.903325  10.882658 -0.081722\n",
              "3         49106222305000 -0.612916  18.496431  3.023717\n",
              "4         49106332290000 -1.184970  12.108489  7.205164\n",
              "...                  ...       ...        ...       ...\n",
              "1098199  131623331483000  9.000000  -1.570000  1.690000\n",
              "1098200  131623371431000  9.040000  -1.460000  1.730000\n",
              "1098201  131623411592000  9.080000  -1.380000  1.690000\n",
              "1098202  131623491487000  9.000000  -1.460000  1.730000\n",
              "1098203  131623531465000  8.880000  -1.330000  1.610000\n",
              "\n",
              "[1098203 rows x 4 columns]"
            ]
          },
          "metadata": {
            "tags": []
          },
          "execution_count": 6
        }
      ]
    },
    {
      "cell_type": "code",
      "metadata": {
        "id": "KUlAeLN6aGn4"
      },
      "source": [
        "import matplotlib.pyplot as plt\n"
      ],
      "execution_count": null,
      "outputs": []
    },
    {
      "cell_type": "code",
      "metadata": {
        "id": "jfaiZ_l9byxF",
        "colab": {
          "base_uri": "https://localhost:8080/",
          "height": 406
        },
        "outputId": "02effda6-030e-4666-8fef-f07f17aefa7c"
      },
      "source": [
        "plt.figure(figsize=(8,6))\n",
        "plt.plot(dataset['timestamp'][:50],dataset['x-axis'][:50],label='x-axis')\n",
        "plt.plot(dataset['timestamp'][:50],dataset['y-axis'][:50],label='y-axis')\n",
        "plt.plot(dataset['timestamp'][:50],dataset['z-axis'][:50],label='z-axis')\n",
        "plt.legend()\n",
        "plt.xlabel(\"timestamp\")\n",
        "plt.ylabel(\"Actions\")\n"
      ],
      "execution_count": null,
      "outputs": [
        {
          "output_type": "execute_result",
          "data": {
            "text/plain": [
              "Text(0, 0.5, 'Actions')"
            ]
          },
          "metadata": {
            "tags": []
          },
          "execution_count": 8
        },
        {
          "output_type": "display_data",
          "data": {
            "image/png": "[encoded data removed]",
            "text/plain": [
              "<Figure size 576x432 with 1 Axes>"
            ]
          },
          "metadata": {
            "tags": [],
            "needs_background": "light"
          }
        }
      ]
    },
    {
      "cell_type": "code",
      "metadata": {
        "id": "iwSZsGRRcdSM"
      },
      "source": [
        "enc = LabelEncoder()\n",
        "labeled=enc.fit_transform(dataset.loc[:,('activity')].ravel())\n",
        "dataset['labeled_activites']=labeled"
      ],
      "execution_count": null,
      "outputs": []
    },
    {
      "cell_type": "code",
      "metadata": {
        "id": "-FXtDPnDcytf",
        "colab": {
          "base_uri": "https://localhost:8080/",
          "height": 402
        },
        "outputId": "dfbbdb13-e004-4ad7-9cdd-ac8f5339d2a6"
      },
      "source": [
        "train=dataset[dataset['user']<=28]\n",
        "test=dataset[dataset['user']>28]\n",
        "train"
      ],
      "execution_count": null,
      "outputs": [
        {
          "output_type": "execute_result",
          "data": {
            "text/html": [
              "<div>\n",
              "<style scoped>\n",
              "    .dataframe tbody tr th:only-of-type {\n",
              "        vertical-align: middle;\n",
              "    }\n",
              "\n",
              "    .dataframe tbody tr th {\n",
              "        vertical-align: top;\n",
              "    }\n",
              "\n",
              "    .dataframe thead th {\n",
              "        text-align: right;\n",
              "    }\n",
              "</style>\n",
              "<table border=\"1\" class=\"dataframe\">\n",
              "  <thead>\n",
              "    <tr style=\"text-align: right;\">\n",
              "      <th></th>\n",
              "      <th>user</th>\n",
              "      <th>activity</th>\n",
              "      <th>timestamp</th>\n",
              "      <th>x-axis</th>\n",
              "      <th>y-axis</th>\n",
              "      <th>z-axis</th>\n",
              "      <th>labeled_activites</th>\n",
              "    </tr>\n",
              "  </thead>\n",
              "  <tbody>\n",
              "    <tr>\n",
              "      <th>8489</th>\n",
              "      <td>17</td>\n",
              "      <td>Walking</td>\n",
              "      <td>57869902574000</td>\n",
              "      <td>0.572055</td>\n",
              "      <td>9.806650</td>\n",
              "      <td>-0.531194</td>\n",
              "      <td>5</td>\n",
              "    </tr>\n",
              "    <tr>\n",
              "      <th>8490</th>\n",
              "      <td>17</td>\n",
              "      <td>Walking</td>\n",
              "      <td>57870012316000</td>\n",
              "      <td>-0.000000</td>\n",
              "      <td>10.188020</td>\n",
              "      <td>-0.572055</td>\n",
              "      <td>5</td>\n",
              "    </tr>\n",
              "    <tr>\n",
              "      <th>8491</th>\n",
              "      <td>17</td>\n",
              "      <td>Walking</td>\n",
              "      <td>57870122301000</td>\n",
              "      <td>-0.231546</td>\n",
              "      <td>9.847511</td>\n",
              "      <td>-0.694638</td>\n",
              "      <td>5</td>\n",
              "    </tr>\n",
              "    <tr>\n",
              "      <th>8492</th>\n",
              "      <td>17</td>\n",
              "      <td>Walking</td>\n",
              "      <td>57870222246000</td>\n",
              "      <td>0.149824</td>\n",
              "      <td>10.079058</td>\n",
              "      <td>-0.503953</td>\n",
              "      <td>5</td>\n",
              "    </tr>\n",
              "    <tr>\n",
              "      <th>8493</th>\n",
              "      <td>17</td>\n",
              "      <td>Walking</td>\n",
              "      <td>57870332292000</td>\n",
              "      <td>0.149824</td>\n",
              "      <td>10.147159</td>\n",
              "      <td>-0.612916</td>\n",
              "      <td>5</td>\n",
              "    </tr>\n",
              "    <tr>\n",
              "      <th>...</th>\n",
              "      <td>...</td>\n",
              "      <td>...</td>\n",
              "      <td>...</td>\n",
              "      <td>...</td>\n",
              "      <td>...</td>\n",
              "      <td>...</td>\n",
              "      <td>...</td>\n",
              "    </tr>\n",
              "    <tr>\n",
              "      <th>1098199</th>\n",
              "      <td>19</td>\n",
              "      <td>Sitting</td>\n",
              "      <td>131623331483000</td>\n",
              "      <td>9.000000</td>\n",
              "      <td>-1.570000</td>\n",
              "      <td>1.690000</td>\n",
              "      <td>2</td>\n",
              "    </tr>\n",
              "    <tr>\n",
              "      <th>1098200</th>\n",
              "      <td>19</td>\n",
              "      <td>Sitting</td>\n",
              "      <td>131623371431000</td>\n",
              "      <td>9.040000</td>\n",
              "      <td>-1.460000</td>\n",
              "      <td>1.730000</td>\n",
              "      <td>2</td>\n",
              "    </tr>\n",
              "    <tr>\n",
              "      <th>1098201</th>\n",
              "      <td>19</td>\n",
              "      <td>Sitting</td>\n",
              "      <td>131623411592000</td>\n",
              "      <td>9.080000</td>\n",
              "      <td>-1.380000</td>\n",
              "      <td>1.690000</td>\n",
              "      <td>2</td>\n",
              "    </tr>\n",
              "    <tr>\n",
              "      <th>1098202</th>\n",
              "      <td>19</td>\n",
              "      <td>Sitting</td>\n",
              "      <td>131623491487000</td>\n",
              "      <td>9.000000</td>\n",
              "      <td>-1.460000</td>\n",
              "      <td>1.730000</td>\n",
              "      <td>2</td>\n",
              "    </tr>\n",
              "    <tr>\n",
              "      <th>1098203</th>\n",
              "      <td>19</td>\n",
              "      <td>Sitting</td>\n",
              "      <td>131623531465000</td>\n",
              "      <td>8.880000</td>\n",
              "      <td>-1.330000</td>\n",
              "      <td>1.610000</td>\n",
              "      <td>2</td>\n",
              "    </tr>\n",
              "  </tbody>\n",
              "</table>\n",
              "<p>834780 rows × 7 columns</p>\n",
              "</div>"
            ],
            "text/plain": [
              "         user activity        timestamp  ...     y-axis    z-axis  labeled_activites\n",
              "8489       17  Walking   57869902574000  ...   9.806650 -0.531194                  5\n",
              "8490       17  Walking   57870012316000  ...  10.188020 -0.572055                  5\n",
              "8491       17  Walking   57870122301000  ...   9.847511 -0.694638                  5\n",
              "8492       17  Walking   57870222246000  ...  10.079058 -0.503953                  5\n",
              "8493       17  Walking   57870332292000  ...  10.147159 -0.612916                  5\n",
              "...       ...      ...              ...  ...        ...       ...                ...\n",
              "1098199    19  Sitting  131623331483000  ...  -1.570000  1.690000                  2\n",
              "1098200    19  Sitting  131623371431000  ...  -1.460000  1.730000                  2\n",
              "1098201    19  Sitting  131623411592000  ...  -1.380000  1.690000                  2\n",
              "1098202    19  Sitting  131623491487000  ...  -1.460000  1.730000                  2\n",
              "1098203    19  Sitting  131623531465000  ...  -1.330000  1.610000                  2\n",
              "\n",
              "[834780 rows x 7 columns]"
            ]
          },
          "metadata": {
            "tags": []
          },
          "execution_count": 10
        }
      ]
    },
    {
      "cell_type": "code",
      "metadata": {
        "id": "19BuWu6zekgf",
        "colab": {
          "base_uri": "https://localhost:8080/",
          "height": 334
        },
        "outputId": "a00e51a5-1036-4f85-db8b-5b4509032abd"
      },
      "source": [
        "train['x-axis']=train['x-axis']/train['x-axis'].max()\n",
        "train['y-axis']=train['y-axis']/train['y-axis'].max()\n",
        "train['z-axis']=dataset['z-axis']/train['z-axis'].max()"
      ],
      "execution_count": null,
      "outputs": [
        {
          "output_type": "stream",
          "text": [
            "/usr/local/lib/python3.6/dist-packages/ipykernel_launcher.py:1: SettingWithCopyWarning: \n",
            "A value is trying to be set on a copy of a slice from a DataFrame.\n",
            "Try using .loc[row_indexer,col_indexer] = value instead\n",
            "\n",
            "See the caveats in the documentation: https://pandas.pydata.org/pandas-docs/stable/user_guide/indexing.html#returning-a-view-versus-a-copy\n",
            "  \"\"\"Entry point for launching an IPython kernel.\n",
            "/usr/local/lib/python3.6/dist-packages/ipykernel_launcher.py:2: SettingWithCopyWarning: \n",
            "A value is trying to be set on a copy of a slice from a DataFrame.\n",
            "Try using .loc[row_indexer,col_indexer] = value instead\n",
            "\n",
            "See the caveats in the documentation: https://pandas.pydata.org/pandas-docs/stable/user_guide/indexing.html#returning-a-view-versus-a-copy\n",
            "  \n",
            "/usr/local/lib/python3.6/dist-packages/ipykernel_launcher.py:3: SettingWithCopyWarning: \n",
            "A value is trying to be set on a copy of a slice from a DataFrame.\n",
            "Try using .loc[row_indexer,col_indexer] = value instead\n",
            "\n",
            "See the caveats in the documentation: https://pandas.pydata.org/pandas-docs/stable/user_guide/indexing.html#returning-a-view-versus-a-copy\n",
            "  This is separate from the ipykernel package so we can avoid doing imports until\n"
          ],
          "name": "stderr"
        }
      ]
    },
    {
      "cell_type": "code",
      "metadata": {
        "id": "euzNKb3s3Q-K"
      },
      "source": [
        "def sliding_window(dataframe,time_steps,step):\n",
        "  xs=[]\n",
        "  ys=[]\n",
        "  for i in range(0,len(dataframe)-time_steps,step):\n",
        "    xi=dataframe['x-axis'].values[i:i+time_steps]\n",
        "    y1=dataframe['y-axis'].values[i:i+time_steps]\n",
        "    z1=dataframe['z-axis'].values[i:i+time_steps]\n",
        "    yi=stats.mode(dataframe['labeled_activites'][i:i+time_steps])[0][0]\n",
        "    xs.append([xi,y1,z1])\n",
        "    ys.append(yi)\n",
        "  return np.asarray(xs),np.asarray(ys)"
      ],
      "execution_count": null,
      "outputs": []
    },
    {
      "cell_type": "code",
      "metadata": {
        "id": "mbOfA7-_6IkX"
      },
      "source": [
        "x_train,y_train=sliding_window(train,90,50)\n",
        "x_test,y_test=sliding_window(test,90,50)\n"
      ],
      "execution_count": null,
      "outputs": []
    },
    {
      "cell_type": "code",
      "metadata": {
        "id": "5WJCfybOfr5Q"
      },
      "source": [
        "Y_train=keras.utils.to_categorical(y_train,num_classes=6)\n",
        "Y_test=keras.utils.to_categorical(y_test,num_classes=6)"
      ],
      "execution_count": null,
      "outputs": []
    },
    {
      "cell_type": "code",
      "metadata": {
        "id": "4mRxkFnH6hpD",
        "colab": {
          "base_uri": "https://localhost:8080/",
          "height": 52
        },
        "outputId": "2ef856e5-16a1-4d52-f9ed-4e530a65edb7"
      },
      "source": [
        "print(x_train.shape)\n",
        "print(y_train.shape)"
      ],
      "execution_count": null,
      "outputs": [
        {
          "output_type": "stream",
          "text": [
            "(16694, 3, 90)\n",
            "(16694,)\n"
          ],
          "name": "stdout"
        }
      ]
    },
    {
      "cell_type": "code",
      "metadata": {
        "id": "xUykANlySxyP",
        "colab": {
          "base_uri": "https://localhost:8080/",
          "height": 52
        },
        "outputId": "263368b2-7728-4576-d1b8-4940804653e9"
      },
      "source": [
        "print(Y_train.shape)\n",
        "print(Y_test.shape)"
      ],
      "execution_count": null,
      "outputs": [
        {
          "output_type": "stream",
          "text": [
            "(16694, 6)\n",
            "(5267, 6)\n"
          ],
          "name": "stdout"
        }
      ]
    },
    {
      "cell_type": "code",
      "metadata": {
        "id": "l5OPibVsYNwK",
        "colab": {
          "base_uri": "https://localhost:8080/",
          "height": 263
        },
        "outputId": "408f46c5-190b-4044-abf6-070732b61d4b"
      },
      "source": [
        "print(Y_train)\n",
        "print(Y_test)"
      ],
      "execution_count": null,
      "outputs": [
        {
          "output_type": "stream",
          "text": [
            "[[0. 0. 0. 0. 0. 1.]\n",
            " [0. 0. 0. 0. 0. 1.]\n",
            " [0. 0. 0. 0. 0. 1.]\n",
            " ...\n",
            " [0. 0. 1. 0. 0. 0.]\n",
            " [0. 0. 1. 0. 0. 0.]\n",
            " [0. 0. 1. 0. 0. 0.]]\n",
            "[[0. 1. 0. 0. 0. 0.]\n",
            " [0. 1. 0. 0. 0. 0.]\n",
            " [0. 1. 0. 0. 0. 0.]\n",
            " ...\n",
            " [0. 0. 0. 1. 0. 0.]\n",
            " [0. 0. 0. 1. 0. 0.]\n",
            " [0. 0. 0. 1. 0. 0.]]\n"
          ],
          "name": "stdout"
        }
      ]
    },
    {
      "cell_type": "code",
      "metadata": {
        "id": "9f7ImXL2NrsN"
      },
      "source": [
        "x_train=x_train.reshape(-1,90,3).astype(np.float32)\n",
        "x_test=x_test.reshape(-1,90,3).astype(np.float32)"
      ],
      "execution_count": null,
      "outputs": []
    },
    {
      "cell_type": "code",
      "metadata": {
        "id": "Pw-16S4rSgU9"
      },
      "source": [
        "def create_model():\n",
        "  model=keras.models.Sequential([keras.layers.Input(shape=(x_train.shape[1],x_train.shape[2])),\n",
        "                                 keras.layers.BatchNormalization(),\n",
        "                                 keras.layers.Conv1D(60,kernel_size=6,strides=1,padding=\"same\",win),\n",
        "                                keras.layers.MaxPool1D(pool_size=21,strides=2),\n",
        "                                 keras.layers.Conv1D(60,kernel_size=6,strides=1,padding=\"same\"),\n",
        "                                 keras.layers.Flatten(),\n",
        "                                 keras.layers.Dense(1000,activation='tanh'),\n",
        "                                keras.layers.Dropout(0.5),\n",
        "\n",
        "                                 keras.layers.Dense(6,activation='softmax')\n",
        "                               ])\n",
        "  return model"
      ],
      "execution_count": null,
      "outputs": []
    },
    {
      "cell_type": "code",
      "metadata": {
        "id": "g0RQLCavUmOT",
        "colab": {
          "base_uri": "https://localhost:8080/",
          "height": 477
        },
        "outputId": "32982a5b-383a-479d-ae4a-9b1f08879636"
      },
      "source": [
        "disturbution=tf.distribute.experimental.CentralStorageStrategy()\n",
        "with disturbution.scope():\n",
        "  model=create_model()\n",
        "  model.summary()\n",
        "  model.compile(loss='categorical_crossentropy',optimizer='adam',metrics=['accuracy'])\n",
        "  "
      ],
      "execution_count": null,
      "outputs": [
        {
          "output_type": "stream",
          "text": [
            "INFO:tensorflow:ParameterServerStrategy (CentralStorageStrategy if you are using a single machine) with compute_devices = ['/job:localhost/replica:0/task:0/device:GPU:0'], variable_device = '/job:localhost/replica:0/task:0/device:GPU:0'\n",
            "Model: \"sequential_8\"\n",
            "_________________________________________________________________\n",
            "Layer (type)                 Output Shape              Param #   \n",
            "=================================================================\n",
            "batch_normalization_8 (Batch (None, 90, 3)             12        \n",
            "_________________________________________________________________\n",
            "conv1d_16 (Conv1D)           (None, 90, 60)            1140      \n",
            "_________________________________________________________________\n",
            "max_pooling1d_8 (MaxPooling1 (None, 35, 60)            0         \n",
            "_________________________________________________________________\n",
            "conv1d_17 (Conv1D)           (None, 35, 60)            21660     \n",
            "_________________________________________________________________\n",
            "flatten_8 (Flatten)          (None, 2100)              0         \n",
            "_________________________________________________________________\n",
            "dense_16 (Dense)             (None, 1000)              2101000   \n",
            "_________________________________________________________________\n",
            "dropout_8 (Dropout)          (None, 1000)              0         \n",
            "_________________________________________________________________\n",
            "dense_17 (Dense)             (None, 6)                 6006      \n",
            "=================================================================\n",
            "Total params: 2,129,818\n",
            "Trainable params: 2,129,812\n",
            "Non-trainable params: 6\n",
            "_________________________________________________________________\n"
          ],
          "name": "stdout"
        }
      ]
    },
    {
      "cell_type": "code",
      "metadata": {
        "id": "YlEfOx-frN6v",
        "colab": {
          "base_uri": "https://localhost:8080/",
          "height": 856
        },
        "outputId": "fba7b199-b5a0-4d7c-c0ad-ff7f14d10ffb"
      },
      "source": [
        "tf.keras.utils.plot_model(model)"
      ],
      "execution_count": null,
      "outputs": [
        {
          "output_type": "execute_result",
          "data": {
            "image/png": "[encoded data removed]",
            "text/plain": [
              "<IPython.core.display.Image object>"
            ]
          },
          "metadata": {
            "tags": []
          },
          "execution_count": 83
        }
      ]
    },
    {
      "cell_type": "code",
      "metadata": {
        "id": "ZfQ2HMwvUneM"
      },
      "source": [
        "checkpoint=keras.callbacks.ModelCheckpoint(\n",
        "        filepath='best_model.{epoch:02d}-{val_loss:.2f}.h5',\n",
        "        monitor='val_loss', save_best_only=True),\n",
        "early_stopping=keras.callbacks.EarlyStopping(monitor='val_loss', min_delta=0.01, patience=1, verbose=1, mode='auto', baseline=None, restore_best_weights=True)\n",
        "\n",
        "reduce_LOP=tf.keras.callbacks.ReduceLROnPlateau(monitor='val_loss', factor=0.1, patience=10, verbose=1, mode='auto', min_delta=0.01, cooldown=0, min_lr=0.001)\n",
        "Callbacks=[checkpoint,reduce_LOP]\n"
      ],
      "execution_count": null,
      "outputs": []
    },
    {
      "cell_type": "code",
      "metadata": {
        "id": "GpMCEYyNUqpK",
        "colab": {
          "base_uri": "https://localhost:8080/",
          "height": 721
        },
        "outputId": "6c1f1b2c-a7cb-451d-be04-2dc095471c8e"
      },
      "source": [
        "history=model.fit(x_train,Y_train,batch_size=16,epochs=20,verbose=1)"
      ],
      "execution_count": null,
      "outputs": [
        {
          "output_type": "stream",
          "text": [
            "Epoch 1/20\n",
            "1044/1044 [==============================] - 4s 4ms/step - accuracy: 0.8435 - loss: 0.4875\n",
            "Epoch 2/20\n",
            "1044/1044 [==============================] - 4s 4ms/step - accuracy: 0.9073 - loss: 0.2911\n",
            "Epoch 3/20\n",
            "1044/1044 [==============================] - 4s 4ms/step - accuracy: 0.9143 - loss: 0.2736\n",
            "Epoch 4/20\n",
            "1044/1044 [==============================] - 4s 4ms/step - accuracy: 0.9196 - loss: 0.2560\n",
            "Epoch 5/20\n",
            "1044/1044 [==============================] - 4s 4ms/step - accuracy: 0.9266 - loss: 0.2404\n",
            "Epoch 6/20\n",
            "1044/1044 [==============================] - 4s 4ms/step - accuracy: 0.9222 - loss: 0.2476\n",
            "Epoch 7/20\n",
            "1044/1044 [==============================] - 4s 4ms/step - accuracy: 0.9270 - loss: 0.2448\n",
            "Epoch 8/20\n",
            "1044/1044 [==============================] - 4s 4ms/step - accuracy: 0.9275 - loss: 0.2503\n",
            "Epoch 9/20\n",
            "1044/1044 [==============================] - 4s 4ms/step - accuracy: 0.9300 - loss: 0.2322\n",
            "Epoch 10/20\n",
            "1044/1044 [==============================] - 4s 4ms/step - accuracy: 0.9258 - loss: 0.2429\n",
            "Epoch 11/20\n",
            "1044/1044 [==============================] - 4s 4ms/step - accuracy: 0.9290 - loss: 0.2329\n",
            "Epoch 12/20\n",
            "1044/1044 [==============================] - 4s 4ms/step - accuracy: 0.9287 - loss: 0.2347\n",
            "Epoch 13/20\n",
            "1044/1044 [==============================] - 4s 4ms/step - accuracy: 0.9302 - loss: 0.2256\n",
            "Epoch 14/20\n",
            "1044/1044 [==============================] - 4s 4ms/step - accuracy: 0.9301 - loss: 0.2316\n",
            "Epoch 15/20\n",
            "1044/1044 [==============================] - 4s 4ms/step - accuracy: 0.9318 - loss: 0.2339\n",
            "Epoch 16/20\n",
            "1044/1044 [==============================] - 4s 4ms/step - accuracy: 0.9292 - loss: 0.2397\n",
            "Epoch 17/20\n",
            "1044/1044 [==============================] - 4s 4ms/step - accuracy: 0.9298 - loss: 0.2322\n",
            "Epoch 18/20\n",
            "1044/1044 [==============================] - 4s 4ms/step - accuracy: 0.9297 - loss: 0.2349\n",
            "Epoch 19/20\n",
            "1044/1044 [==============================] - 4s 4ms/step - accuracy: 0.9314 - loss: 0.2341\n",
            "Epoch 20/20\n",
            "1044/1044 [==============================] - 4s 4ms/step - accuracy: 0.9326 - loss: 0.2251\n"
          ],
          "name": "stdout"
        }
      ]
    },
    {
      "cell_type": "code",
      "metadata": {
        "id": "MUJJiIlTVESA",
        "colab": {
          "base_uri": "https://localhost:8080/",
          "height": 297
        },
        "outputId": "3bc5ee96-2a5a-4a80-e68c-6bc169198690"
      },
      "source": [
        "plt.plot(history.history['accuracy'],label='train_accuracy')\n",
        "plt.plot(history.history['loss'],label='train_loss')\n",
        "plt.xlabel('number of epoch')\n",
        "plt.ylabel('value')\n",
        "plt.legend()"
      ],
      "execution_count": null,
      "outputs": [
        {
          "output_type": "execute_result",
          "data": {
            "text/plain": [
              "<matplotlib.legend.Legend at 0x7fe8262a5278>"
            ]
          },
          "metadata": {
            "tags": []
          },
          "execution_count": 63
        },
        {
          "output_type": "display_data",
          "data": {
            "image/png": "[encoded data removed]",
            "text/plain": [
              "<Figure size 432x288 with 1 Axes>"
            ]
          },
          "metadata": {
            "tags": [],
            "needs_background": "light"
          }
        }
      ]
    },
    {
      "cell_type": "code",
      "metadata": {
        "id": "w78dKJA-VRbG"
      },
      "source": [
        "best_model=keras.models.load_model('/content/drive/My Drive/nets/best_model.01-0.56.h5')"
      ],
      "execution_count": null,
      "outputs": []
    },
    {
      "cell_type": "code",
      "metadata": {
        "id": "Xz53ygW5WVd9",
        "colab": {
          "base_uri": "https://localhost:8080/",
          "height": 52
        },
        "outputId": "10ff8ea1-55b1-4753-f1fb-16b816556443"
      },
      "source": [
        "best_model.evaluate(x_test,Y_test)"
      ],
      "execution_count": null,
      "outputs": [
        {
          "output_type": "stream",
          "text": [
            "165/165 [==============================] - 0s 3ms/step - accuracy: 0.6628 - loss: 1.2211\n"
          ],
          "name": "stdout"
        },
        {
          "output_type": "execute_result",
          "data": {
            "text/plain": [
              "[1.2210546731948853, 0.6628061532974243]"
            ]
          },
          "metadata": {
            "tags": []
          },
          "execution_count": 64
        }
      ]
    },
    {
      "cell_type": "code",
      "metadata": {
        "id": "TPGn-QSWWYe5",
        "colab": {
          "base_uri": "https://localhost:8080/",
          "height": 246
        },
        "outputId": "1f5ab792-0e46-4e21-b7df-46ba90f266be"
      },
      "source": [
        "pred_test=best_model.predict(x_test)\n",
        "pred_test"
      ],
      "execution_count": null,
      "outputs": [
        {
          "output_type": "execute_result",
          "data": {
            "text/plain": [
              "array([[1.5709437e-01, 8.2076257e-01, 5.5079834e-09, 1.0902342e-05,\n",
              "        2.0433927e-02, 1.6982624e-03],\n",
              "       [3.3691175e-02, 9.6072197e-01, 1.6079849e-09, 8.9643754e-06,\n",
              "        5.0238874e-03, 5.5400917e-04],\n",
              "       [9.7527437e-02, 8.9057940e-01, 1.8586132e-08, 3.6703132e-05,\n",
              "        9.6125491e-03, 2.2438616e-03],\n",
              "       ...,\n",
              "       [9.5554478e-02, 5.7949143e-05, 4.5440640e-08, 2.9414904e-03,\n",
              "        4.1041267e-01, 4.9103338e-01],\n",
              "       [8.4653981e-02, 2.0742540e-03, 1.6195923e-05, 3.5201281e-02,\n",
              "        6.2549835e-01, 2.5255588e-01],\n",
              "       [1.0877031e-01, 8.7706459e-04, 3.2362054e-06, 4.4326023e-03,\n",
              "        8.2794940e-01, 5.7967335e-02]], dtype=float32)"
            ]
          },
          "metadata": {
            "tags": []
          },
          "execution_count": 77
        }
      ]
    },
    {
      "cell_type": "code",
      "metadata": {
        "id": "KMHlZf8RgkmZ",
        "colab": {
          "base_uri": "https://localhost:8080/",
          "height": 140
        },
        "outputId": "369413d0-2a8c-478d-c804-614610730fea"
      },
      "source": [
        "Y_test"
      ],
      "execution_count": null,
      "outputs": [
        {
          "output_type": "execute_result",
          "data": {
            "text/plain": [
              "array([[0., 1., 0., 0., 0., 0.],\n",
              "       [0., 1., 0., 0., 0., 0.],\n",
              "       [0., 1., 0., 0., 0., 0.],\n",
              "       ...,\n",
              "       [0., 0., 0., 1., 0., 0.],\n",
              "       [0., 0., 0., 1., 0., 0.],\n",
              "       [0., 0., 0., 1., 0., 0.]], dtype=float32)"
            ]
          },
          "metadata": {
            "tags": []
          },
          "execution_count": 78
        }
      ]
    },
    {
      "cell_type": "code",
      "metadata": {
        "id": "8MKCxzMhgpIJ",
        "colab": {
          "base_uri": "https://localhost:8080/",
          "height": 52
        },
        "outputId": "abe9669d-cbbc-496f-a35b-352e95f1e2f1"
      },
      "source": [
        "y_pred_test=np.argmax(pred_test,axis=1)\n",
        "print(y_pred_test)\n",
        "print(y_test)"
      ],
      "execution_count": null,
      "outputs": [
        {
          "output_type": "stream",
          "text": [
            "[1 1 1 ... 5 4 4]\n",
            "[1 1 1 ... 3 3 3]\n"
          ],
          "name": "stdout"
        }
      ]
    },
    {
      "cell_type": "code",
      "metadata": {
        "id": "UQZOxd7XZb3V"
      },
      "source": [
        "from sklearn import metrics\n",
        "from sklearn.metrics import classification_report\n",
        "from sklearn import preprocessing\n",
        "import seaborn as sns"
      ],
      "execution_count": null,
      "outputs": []
    },
    {
      "cell_type": "code",
      "metadata": {
        "id": "C8NxT1TtZ9dM",
        "colab": {
          "base_uri": "https://localhost:8080/",
          "height": 329
        },
        "outputId": "90f821a3-6334-4408-fcc8-9930097b8a18"
      },
      "source": [
        "confusion_matrix=metrics.confusion_matrix(y_test,y_pred_test)\n",
        "sns.heatmap(confusion_matrix,cmap='coolwarm',linecolor='white',xticklabels=LABELS,yticklabels=LABELS,annot=True)"
      ],
      "execution_count": null,
      "outputs": [
        {
          "output_type": "execute_result",
          "data": {
            "text/plain": [
              "<matplotlib.axes._subplots.AxesSubplot at 0x7fe7de78aa90>"
            ]
          },
          "metadata": {
            "tags": []
          },
          "execution_count": 81
        },
        {
          "output_type": "display_data",
          "data": {
            "image/png": "[encoded data removed]",
            "text/plain": [
              "<Figure size 432x288 with 2 Axes>"
            ]
          },
          "metadata": {
            "tags": [],
            "needs_background": "light"
          }
        }
      ]
    },
    {
      "cell_type": "code",
      "metadata": {
        "id": "DS_N3mlel4jn",
        "colab": {
          "base_uri": "https://localhost:8080/",
          "height": 246
        },
        "outputId": "c32cac33-2951-4363-a8dc-fa77e80bd82d"
      },
      "source": [
        "print(classification_report(y_test,y_pred_test,target_names=LABELS))"
      ],
      "execution_count": null,
      "outputs": [
        {
          "output_type": "stream",
          "text": [
            "              precision    recall  f1-score   support\n",
            "\n",
            "  Downstairs       0.61      0.60      0.60       521\n",
            "     Jogging       0.87      0.98      0.92      1588\n",
            "     Sitting       1.00      0.49      0.66       362\n",
            "    Standing       0.83      0.87      0.85       296\n",
            "    Upstairs       0.84      0.37      0.51       580\n",
            "     Walking       0.79      0.92      0.85      1920\n",
            "\n",
            "    accuracy                           0.81      5267\n",
            "   macro avg       0.82      0.70      0.73      5267\n",
            "weighted avg       0.82      0.81      0.80      5267\n",
            "\n"
          ],
          "name": "stdout"
        }
      ]
    },
    {
      "cell_type": "code",
      "metadata": {
        "id": "N1dzhkj2hzB-"
      },
      "source": [
        ""
      ],
      "execution_count": null,
      "outputs": []
    }
  ]
}